{
 "cells": [
  {
   "cell_type": "markdown",
   "metadata": {},
   "source": [
    "# Unveiling Bias in Gender Violence Perception on Italian Social Media"
   ]
  },
  {
   "cell_type": "markdown",
   "metadata": {},
   "source": [
    "## Importing Libraries"
   ]
  },
  {
   "cell_type": "code",
   "execution_count": 1,
   "metadata": {},
   "outputs": [
    {
     "name": "stdout",
     "output_type": "stream",
     "text": [
      "Requirement already satisfied: clean-text in c:\\users\\lepol\\appdata\\local\\programs\\python\\python311\\lib\\site-packages (0.6.0)\n",
      "Requirement already satisfied: emoji<2.0.0,>=1.0.0 in c:\\users\\lepol\\appdata\\local\\programs\\python\\python311\\lib\\site-packages (from clean-text) (1.7.0)\n",
      "Requirement already satisfied: ftfy<7.0,>=6.0 in c:\\users\\lepol\\appdata\\local\\programs\\python\\python311\\lib\\site-packages (from clean-text) (6.2.0)\n",
      "Requirement already satisfied: wcwidth<0.3.0,>=0.2.12 in c:\\users\\lepol\\appdata\\local\\programs\\python\\python311\\lib\\site-packages (from ftfy<7.0,>=6.0->clean-text) (0.2.13)\n"
     ]
    }
   ],
   "source": [
    "!pip install clean-text"
   ]
  },
  {
   "cell_type": "code",
   "execution_count": 2,
   "metadata": {},
   "outputs": [
    {
     "name": "stderr",
     "output_type": "stream",
     "text": [
      "Since the GPL-licensed package `unidecode` is not installed, using Python's `unicodedata` package which yields worse results.\n"
     ]
    }
   ],
   "source": [
    "# import all the necessary libraries\n",
    "import pandas as pd\n",
    "import numpy as np\n",
    "import matplotlib.pyplot as plt\n",
    "import seaborn as sns\n",
    "import datetime as dt\n",
    "import regex as re\n",
    "import spacy\n",
    "#import clean function\n",
    "from cleantext import clean"
   ]
  },
  {
   "cell_type": "code",
   "execution_count": 3,
   "metadata": {},
   "outputs": [
    {
     "name": "stdout",
     "output_type": "stream",
     "text": [
      "Collecting it-core-news-sm==3.7.0\n",
      "  Downloading https://github.com/explosion/spacy-models/releases/download/it_core_news_sm-3.7.0/it_core_news_sm-3.7.0-py3-none-any.whl (13.0 MB)\n",
      "     ---------------------------------------- 0.0/13.0 MB ? eta -:--:--\n",
      "     --------------------------------------- 0.0/13.0 MB 991.0 kB/s eta 0:00:14\n",
      "      --------------------------------------- 0.2/13.0 MB 1.7 MB/s eta 0:00:08\n",
      "     - -------------------------------------- 0.3/13.0 MB 2.3 MB/s eta 0:00:06\n",
      "     - -------------------------------------- 0.6/13.0 MB 3.3 MB/s eta 0:00:04\n",
      "     -- ------------------------------------- 0.8/13.0 MB 3.6 MB/s eta 0:00:04\n",
      "     -- ------------------------------------- 1.0/13.0 MB 3.4 MB/s eta 0:00:04\n",
      "     --- ------------------------------------ 1.2/13.0 MB 3.7 MB/s eta 0:00:04\n",
      "     ---- ----------------------------------- 1.5/13.0 MB 3.9 MB/s eta 0:00:03\n",
      "     ---- ----------------------------------- 1.6/13.0 MB 4.0 MB/s eta 0:00:03\n",
      "     ----- ---------------------------------- 1.8/13.0 MB 3.8 MB/s eta 0:00:03\n",
      "     ------ --------------------------------- 2.0/13.0 MB 3.9 MB/s eta 0:00:03\n",
      "     ------ --------------------------------- 2.2/13.0 MB 4.0 MB/s eta 0:00:03\n",
      "     ------- -------------------------------- 2.5/13.0 MB 4.0 MB/s eta 0:00:03\n",
      "     -------- ------------------------------- 2.7/13.0 MB 4.1 MB/s eta 0:00:03\n",
      "     -------- ------------------------------- 2.9/13.0 MB 4.1 MB/s eta 0:00:03\n",
      "     --------- ------------------------------ 3.1/13.0 MB 4.2 MB/s eta 0:00:03\n",
      "     ---------- ----------------------------- 3.4/13.0 MB 4.2 MB/s eta 0:00:03\n",
      "     ----------- ---------------------------- 3.6/13.0 MB 4.2 MB/s eta 0:00:03\n",
      "     ----------- ---------------------------- 3.9/13.0 MB 4.3 MB/s eta 0:00:03\n",
      "     ------------ --------------------------- 4.1/13.0 MB 4.4 MB/s eta 0:00:03\n",
      "     ------------- -------------------------- 4.4/13.0 MB 4.4 MB/s eta 0:00:02\n",
      "     -------------- ------------------------- 4.6/13.0 MB 4.4 MB/s eta 0:00:02\n",
      "     -------------- ------------------------- 4.8/13.0 MB 4.5 MB/s eta 0:00:02\n",
      "     --------------- ------------------------ 5.2/13.0 MB 4.5 MB/s eta 0:00:02\n",
      "     ---------------- ----------------------- 5.3/13.0 MB 4.5 MB/s eta 0:00:02\n",
      "     ----------------- ---------------------- 5.6/13.0 MB 4.5 MB/s eta 0:00:02\n",
      "     ----------------- ---------------------- 5.8/13.0 MB 4.5 MB/s eta 0:00:02\n",
      "     ------------------ --------------------- 6.0/13.0 MB 4.5 MB/s eta 0:00:02\n",
      "     ------------------- -------------------- 6.3/13.0 MB 4.6 MB/s eta 0:00:02\n",
      "     ------------------- -------------------- 6.5/13.0 MB 4.5 MB/s eta 0:00:02\n",
      "     -------------------- ------------------- 6.7/13.0 MB 4.5 MB/s eta 0:00:02\n",
      "     -------------------- ------------------- 6.8/13.0 MB 4.4 MB/s eta 0:00:02\n",
      "     -------------------- ------------------- 6.8/13.0 MB 4.4 MB/s eta 0:00:02\n",
      "     --------------------- ------------------ 6.9/13.0 MB 4.2 MB/s eta 0:00:02\n",
      "     ---------------------- ----------------- 7.2/13.0 MB 4.3 MB/s eta 0:00:02\n",
      "     ---------------------- ----------------- 7.4/13.0 MB 4.3 MB/s eta 0:00:02\n",
      "     ----------------------- ---------------- 7.6/13.0 MB 4.3 MB/s eta 0:00:02\n",
      "     ----------------------- ---------------- 7.8/13.0 MB 4.3 MB/s eta 0:00:02\n",
      "     ------------------------ --------------- 8.0/13.0 MB 4.3 MB/s eta 0:00:02\n",
      "     ------------------------- -------------- 8.3/13.0 MB 4.3 MB/s eta 0:00:02\n",
      "     ------------------------- -------------- 8.4/13.0 MB 4.3 MB/s eta 0:00:02\n",
      "     -------------------------- ------------- 8.6/13.0 MB 4.2 MB/s eta 0:00:02\n",
      "     -------------------------- ------------- 8.8/13.0 MB 4.3 MB/s eta 0:00:02\n",
      "     --------------------------- ------------ 9.0/13.0 MB 4.3 MB/s eta 0:00:01\n",
      "     ---------------------------- ----------- 9.2/13.0 MB 4.3 MB/s eta 0:00:01\n",
      "     ---------------------------- ----------- 9.4/13.0 MB 4.3 MB/s eta 0:00:01\n",
      "     ----------------------------- ---------- 9.7/13.0 MB 4.3 MB/s eta 0:00:01\n",
      "     ------------------------------ --------- 9.8/13.0 MB 4.3 MB/s eta 0:00:01\n",
      "     ------------------------------ --------- 10.1/13.0 MB 4.3 MB/s eta 0:00:01\n",
      "     ------------------------------- -------- 10.3/13.0 MB 4.3 MB/s eta 0:00:01\n",
      "     -------------------------------- ------- 10.4/13.0 MB 4.4 MB/s eta 0:00:01\n",
      "     -------------------------------- ------- 10.6/13.0 MB 4.4 MB/s eta 0:00:01\n",
      "     --------------------------------- ------ 10.8/13.0 MB 4.3 MB/s eta 0:00:01\n",
      "     --------------------------------- ------ 11.0/13.0 MB 4.3 MB/s eta 0:00:01\n",
      "     ---------------------------------- ----- 11.2/13.0 MB 4.3 MB/s eta 0:00:01\n",
      "     ---------------------------------- ----- 11.4/13.0 MB 4.4 MB/s eta 0:00:01\n",
      "     ---------------------------------- ----- 11.4/13.0 MB 4.4 MB/s eta 0:00:01\n",
      "     ----------------------------------- ---- 11.6/13.0 MB 4.3 MB/s eta 0:00:01\n",
      "     ------------------------------------ --- 11.8/13.0 MB 4.3 MB/s eta 0:00:01\n",
      "     ------------------------------------- -- 12.1/13.0 MB 4.3 MB/s eta 0:00:01\n",
      "     ------------------------------------- -- 12.3/13.0 MB 4.3 MB/s eta 0:00:01\n",
      "     -------------------------------------- - 12.6/13.0 MB 4.3 MB/s eta 0:00:01\n",
      "     ---------------------------------------  12.8/13.0 MB 4.4 MB/s eta 0:00:01\n",
      "     ---------------------------------------  13.0/13.0 MB 4.3 MB/s eta 0:00:01\n",
      "     ---------------------------------------- 13.0/13.0 MB 4.3 MB/s eta 0:00:00\n",
      "Requirement already satisfied: spacy<3.8.0,>=3.7.0 in c:\\users\\lepol\\appdata\\local\\programs\\python\\python311\\lib\\site-packages (from it-core-news-sm==3.7.0) (3.7.3)\n",
      "Requirement already satisfied: spacy-legacy<3.1.0,>=3.0.11 in c:\\users\\lepol\\appdata\\local\\programs\\python\\python311\\lib\\site-packages (from spacy<3.8.0,>=3.7.0->it-core-news-sm==3.7.0) (3.0.12)\n",
      "Requirement already satisfied: spacy-loggers<2.0.0,>=1.0.0 in c:\\users\\lepol\\appdata\\local\\programs\\python\\python311\\lib\\site-packages (from spacy<3.8.0,>=3.7.0->it-core-news-sm==3.7.0) (1.0.5)\n",
      "Requirement already satisfied: murmurhash<1.1.0,>=0.28.0 in c:\\users\\lepol\\appdata\\local\\programs\\python\\python311\\lib\\site-packages (from spacy<3.8.0,>=3.7.0->it-core-news-sm==3.7.0) (1.0.10)\n",
      "Requirement already satisfied: cymem<2.1.0,>=2.0.2 in c:\\users\\lepol\\appdata\\local\\programs\\python\\python311\\lib\\site-packages (from spacy<3.8.0,>=3.7.0->it-core-news-sm==3.7.0) (2.0.8)\n",
      "Requirement already satisfied: preshed<3.1.0,>=3.0.2 in c:\\users\\lepol\\appdata\\local\\programs\\python\\python311\\lib\\site-packages (from spacy<3.8.0,>=3.7.0->it-core-news-sm==3.7.0) (3.0.9)\n",
      "Requirement already satisfied: thinc<8.3.0,>=8.2.2 in c:\\users\\lepol\\appdata\\local\\programs\\python\\python311\\lib\\site-packages (from spacy<3.8.0,>=3.7.0->it-core-news-sm==3.7.0) (8.2.2)\n",
      "Requirement already satisfied: wasabi<1.2.0,>=0.9.1 in c:\\users\\lepol\\appdata\\local\\programs\\python\\python311\\lib\\site-packages (from spacy<3.8.0,>=3.7.0->it-core-news-sm==3.7.0) (1.1.2)\n",
      "Requirement already satisfied: srsly<3.0.0,>=2.4.3 in c:\\users\\lepol\\appdata\\local\\programs\\python\\python311\\lib\\site-packages (from spacy<3.8.0,>=3.7.0->it-core-news-sm==3.7.0) (2.4.8)\n",
      "Requirement already satisfied: catalogue<2.1.0,>=2.0.6 in c:\\users\\lepol\\appdata\\local\\programs\\python\\python311\\lib\\site-packages (from spacy<3.8.0,>=3.7.0->it-core-news-sm==3.7.0) (2.0.10)\n",
      "Requirement already satisfied: weasel<0.4.0,>=0.1.0 in c:\\users\\lepol\\appdata\\local\\programs\\python\\python311\\lib\\site-packages (from spacy<3.8.0,>=3.7.0->it-core-news-sm==3.7.0) (0.3.4)\n",
      "Requirement already satisfied: typer<0.10.0,>=0.3.0 in c:\\users\\lepol\\appdata\\local\\programs\\python\\python311\\lib\\site-packages (from spacy<3.8.0,>=3.7.0->it-core-news-sm==3.7.0) (0.9.0)\n",
      "Requirement already satisfied: smart-open<7.0.0,>=5.2.1 in c:\\users\\lepol\\appdata\\local\\programs\\python\\python311\\lib\\site-packages (from spacy<3.8.0,>=3.7.0->it-core-news-sm==3.7.0) (6.4.0)\n",
      "Requirement already satisfied: tqdm<5.0.0,>=4.38.0 in c:\\users\\lepol\\appdata\\local\\programs\\python\\python311\\lib\\site-packages (from spacy<3.8.0,>=3.7.0->it-core-news-sm==3.7.0) (4.64.1)\n",
      "Requirement already satisfied: requests<3.0.0,>=2.13.0 in c:\\users\\lepol\\appdata\\local\\programs\\python\\python311\\lib\\site-packages (from spacy<3.8.0,>=3.7.0->it-core-news-sm==3.7.0) (2.31.0)\n",
      "Requirement already satisfied: pydantic!=1.8,!=1.8.1,<3.0.0,>=1.7.4 in c:\\users\\lepol\\appdata\\local\\programs\\python\\python311\\lib\\site-packages (from spacy<3.8.0,>=3.7.0->it-core-news-sm==3.7.0) (2.6.1)\n",
      "Requirement already satisfied: jinja2 in c:\\users\\lepol\\appdata\\local\\programs\\python\\python311\\lib\\site-packages (from spacy<3.8.0,>=3.7.0->it-core-news-sm==3.7.0) (3.1.2)\n",
      "Requirement already satisfied: setuptools in c:\\users\\lepol\\appdata\\local\\programs\\python\\python311\\lib\\site-packages (from spacy<3.8.0,>=3.7.0->it-core-news-sm==3.7.0) (65.5.0)\n",
      "Requirement already satisfied: packaging>=20.0 in c:\\users\\lepol\\appdata\\local\\programs\\python\\python311\\lib\\site-packages (from spacy<3.8.0,>=3.7.0->it-core-news-sm==3.7.0) (23.0)\n",
      "Requirement already satisfied: langcodes<4.0.0,>=3.2.0 in c:\\users\\lepol\\appdata\\local\\programs\\python\\python311\\lib\\site-packages (from spacy<3.8.0,>=3.7.0->it-core-news-sm==3.7.0) (3.3.0)\n",
      "Requirement already satisfied: numpy>=1.19.0 in c:\\users\\lepol\\appdata\\local\\programs\\python\\python311\\lib\\site-packages (from spacy<3.8.0,>=3.7.0->it-core-news-sm==3.7.0) (1.24.3)\n",
      "Requirement already satisfied: annotated-types>=0.4.0 in c:\\users\\lepol\\appdata\\local\\programs\\python\\python311\\lib\\site-packages (from pydantic!=1.8,!=1.8.1,<3.0.0,>=1.7.4->spacy<3.8.0,>=3.7.0->it-core-news-sm==3.7.0) (0.6.0)\n",
      "Requirement already satisfied: pydantic-core==2.16.2 in c:\\users\\lepol\\appdata\\local\\programs\\python\\python311\\lib\\site-packages (from pydantic!=1.8,!=1.8.1,<3.0.0,>=1.7.4->spacy<3.8.0,>=3.7.0->it-core-news-sm==3.7.0) (2.16.2)\n",
      "Requirement already satisfied: typing-extensions>=4.6.1 in c:\\users\\lepol\\appdata\\local\\programs\\python\\python311\\lib\\site-packages (from pydantic!=1.8,!=1.8.1,<3.0.0,>=1.7.4->spacy<3.8.0,>=3.7.0->it-core-news-sm==3.7.0) (4.10.0)\n",
      "Requirement already satisfied: charset-normalizer<4,>=2 in c:\\users\\lepol\\appdata\\local\\programs\\python\\python311\\lib\\site-packages (from requests<3.0.0,>=2.13.0->spacy<3.8.0,>=3.7.0->it-core-news-sm==3.7.0) (2.1.1)\n",
      "Requirement already satisfied: idna<4,>=2.5 in c:\\users\\lepol\\appdata\\local\\programs\\python\\python311\\lib\\site-packages (from requests<3.0.0,>=2.13.0->spacy<3.8.0,>=3.7.0->it-core-news-sm==3.7.0) (3.4)\n",
      "Requirement already satisfied: urllib3<3,>=1.21.1 in c:\\users\\lepol\\appdata\\local\\programs\\python\\python311\\lib\\site-packages (from requests<3.0.0,>=2.13.0->spacy<3.8.0,>=3.7.0->it-core-news-sm==3.7.0) (1.26.12)\n",
      "Requirement already satisfied: certifi>=2017.4.17 in c:\\users\\lepol\\appdata\\local\\programs\\python\\python311\\lib\\site-packages (from requests<3.0.0,>=2.13.0->spacy<3.8.0,>=3.7.0->it-core-news-sm==3.7.0) (2022.9.24)\n",
      "Requirement already satisfied: blis<0.8.0,>=0.7.8 in c:\\users\\lepol\\appdata\\local\\programs\\python\\python311\\lib\\site-packages (from thinc<8.3.0,>=8.2.2->spacy<3.8.0,>=3.7.0->it-core-news-sm==3.7.0) (0.7.11)\n",
      "Requirement already satisfied: confection<1.0.0,>=0.0.1 in c:\\users\\lepol\\appdata\\local\\programs\\python\\python311\\lib\\site-packages (from thinc<8.3.0,>=8.2.2->spacy<3.8.0,>=3.7.0->it-core-news-sm==3.7.0) (0.1.4)\n",
      "Requirement already satisfied: colorama in c:\\users\\lepol\\appdata\\local\\programs\\python\\python311\\lib\\site-packages (from tqdm<5.0.0,>=4.38.0->spacy<3.8.0,>=3.7.0->it-core-news-sm==3.7.0) (0.4.6)\n",
      "Requirement already satisfied: click<9.0.0,>=7.1.1 in c:\\users\\lepol\\appdata\\local\\programs\\python\\python311\\lib\\site-packages (from typer<0.10.0,>=0.3.0->spacy<3.8.0,>=3.7.0->it-core-news-sm==3.7.0) (8.1.3)\n",
      "Requirement already satisfied: cloudpathlib<0.17.0,>=0.7.0 in c:\\users\\lepol\\appdata\\local\\programs\\python\\python311\\lib\\site-packages (from weasel<0.4.0,>=0.1.0->spacy<3.8.0,>=3.7.0->it-core-news-sm==3.7.0) (0.16.0)\n",
      "Requirement already satisfied: MarkupSafe>=2.0 in c:\\users\\lepol\\appdata\\local\\programs\\python\\python311\\lib\\site-packages (from jinja2->spacy<3.8.0,>=3.7.0->it-core-news-sm==3.7.0) (2.1.2)\n",
      "\u001b[38;5;2m✔ Download and installation successful\u001b[0m\n",
      "You can now load the package via spacy.load('it_core_news_sm')\n"
     ]
    }
   ],
   "source": [
    "!python -m spacy download it_core_news_sm"
   ]
  },
  {
   "cell_type": "markdown",
   "metadata": {},
   "source": [
    "## Reading and Cleaning Data"
   ]
  },
  {
   "cell_type": "markdown",
   "metadata": {},
   "source": [
    "### Read Df"
   ]
  },
  {
   "cell_type": "markdown",
   "metadata": {},
   "source": [
    "This data frame comes from extensive and hard scraping on Nitter, one of the last available resources to scrape Twitter without rate limits and high expenses. However, because of the instability of the various instances, we are not sure the results will be easily replicated if trying to run again the twitter.ipynb script. "
   ]
  },
  {
   "cell_type": "code",
   "execution_count": 4,
   "metadata": {},
   "outputs": [],
   "source": [
    "# read the data\n",
    "df = pd.read_csv('twitter_data.csv')"
   ]
  },
  {
   "cell_type": "code",
   "execution_count": 5,
   "metadata": {},
   "outputs": [
    {
     "data": {
      "text/html": [
       "<div>\n",
       "<style scoped>\n",
       "    .dataframe tbody tr th:only-of-type {\n",
       "        vertical-align: middle;\n",
       "    }\n",
       "\n",
       "    .dataframe tbody tr th {\n",
       "        vertical-align: top;\n",
       "    }\n",
       "\n",
       "    .dataframe thead th {\n",
       "        text-align: right;\n",
       "    }\n",
       "</style>\n",
       "<table border=\"1\" class=\"dataframe\">\n",
       "  <thead>\n",
       "    <tr style=\"text-align: right;\">\n",
       "      <th></th>\n",
       "      <th>user</th>\n",
       "      <th>username</th>\n",
       "      <th>date</th>\n",
       "      <th>text</th>\n",
       "      <th>comments</th>\n",
       "      <th>retweets</th>\n",
       "      <th>quotes</th>\n",
       "      <th>likes</th>\n",
       "    </tr>\n",
       "  </thead>\n",
       "  <tbody>\n",
       "    <tr>\n",
       "      <th>0</th>\n",
       "      <td>Sciking</td>\n",
       "      <td>@ScikingFS</td>\n",
       "      <td>Apr 19</td>\n",
       "      <td>Se solo le donne possono parlare di aborto, so...</td>\n",
       "      <td>0</td>\n",
       "      <td>0</td>\n",
       "      <td>0</td>\n",
       "      <td>0</td>\n",
       "    </tr>\n",
       "    <tr>\n",
       "      <th>1</th>\n",
       "      <td>💲ℹ️〽️⭕.🇪🇺🇺🇦 #Il Silenzio é Sottovalutato❣️©🤫</td>\n",
       "      <td>@Simo42953017</td>\n",
       "      <td>Apr 19</td>\n",
       "      <td>#femminicidio #femminicidi</td>\n",
       "      <td>0</td>\n",
       "      <td>0</td>\n",
       "      <td>0</td>\n",
       "      <td>0</td>\n",
       "    </tr>\n",
       "    <tr>\n",
       "      <th>2</th>\n",
       "      <td>pubblicanow.it</td>\n",
       "      <td>@pubblicanow</td>\n",
       "      <td>Apr 19</td>\n",
       "      <td>Paesi Baschi: aiuto annuale per gli orfani di ...</td>\n",
       "      <td>0</td>\n",
       "      <td>0</td>\n",
       "      <td>0</td>\n",
       "      <td>0</td>\n",
       "    </tr>\n",
       "    <tr>\n",
       "      <th>3</th>\n",
       "      <td>Italy in Austria</td>\n",
       "      <td>@ItalyinAustria</td>\n",
       "      <td>Apr 19</td>\n",
       "      <td>L'Ambasciata d'Italia a Vienna aderisce alla c...</td>\n",
       "      <td>0</td>\n",
       "      <td>0</td>\n",
       "      <td>0</td>\n",
       "      <td>0</td>\n",
       "    </tr>\n",
       "    <tr>\n",
       "      <th>4</th>\n",
       "      <td>𝙈𝙖𝙧𝙠 𝙋. 𝙇𝙚 𝙃𝙖𝙫𝙧𝙚</td>\n",
       "      <td>@marklehavre</td>\n",
       "      <td>Apr 19</td>\n",
       "      <td>Bhe speriamo che non sia per qualche femminici...</td>\n",
       "      <td>0</td>\n",
       "      <td>0</td>\n",
       "      <td>0</td>\n",
       "      <td>1</td>\n",
       "    </tr>\n",
       "  </tbody>\n",
       "</table>\n",
       "</div>"
      ],
      "text/plain": [
       "                                           user         username    date  \\\n",
       "0                                       Sciking       @ScikingFS  Apr 19   \n",
       "1  💲ℹ️〽️⭕.🇪🇺🇺🇦 #Il Silenzio é Sottovalutato❣️©🤫    @Simo42953017  Apr 19   \n",
       "2                                pubblicanow.it     @pubblicanow  Apr 19   \n",
       "3                              Italy in Austria  @ItalyinAustria  Apr 19   \n",
       "4                              𝙈𝙖𝙧𝙠 𝙋. 𝙇𝙚 𝙃𝙖𝙫𝙧𝙚     @marklehavre  Apr 19   \n",
       "\n",
       "                                                text  comments retweets  \\\n",
       "0  Se solo le donne possono parlare di aborto, so...         0        0   \n",
       "1                         #femminicidio #femminicidi         0        0   \n",
       "2  Paesi Baschi: aiuto annuale per gli orfani di ...         0        0   \n",
       "3  L'Ambasciata d'Italia a Vienna aderisce alla c...         0        0   \n",
       "4  Bhe speriamo che non sia per qualche femminici...         0        0   \n",
       "\n",
       "   quotes likes  \n",
       "0       0     0  \n",
       "1       0     0  \n",
       "2       0     0  \n",
       "3       0     0  \n",
       "4       0     1  "
      ]
     },
     "execution_count": 5,
     "metadata": {},
     "output_type": "execute_result"
    }
   ],
   "source": [
    "# drop the first column\n",
    "df.drop(columns=['Unnamed: 0'], inplace=True)\n",
    "df.head()"
   ]
  },
  {
   "cell_type": "code",
   "execution_count": 6,
   "metadata": {},
   "outputs": [
    {
     "name": "stdout",
     "output_type": "stream",
     "text": [
      "<class 'pandas.core.frame.DataFrame'>\n",
      "RangeIndex: 40921 entries, 0 to 40920\n",
      "Data columns (total 8 columns):\n",
      " #   Column    Non-Null Count  Dtype \n",
      "---  ------    --------------  ----- \n",
      " 0   user      40921 non-null  object\n",
      " 1   username  40921 non-null  object\n",
      " 2   date      40921 non-null  object\n",
      " 3   text      40921 non-null  object\n",
      " 4   comments  40921 non-null  int64 \n",
      " 5   retweets  40921 non-null  object\n",
      " 6   quotes    40921 non-null  int64 \n",
      " 7   likes     40921 non-null  object\n",
      "dtypes: int64(2), object(6)\n",
      "memory usage: 2.5+ MB\n"
     ]
    }
   ],
   "source": [
    "# check the data types\n",
    "df.info()"
   ]
  },
  {
   "cell_type": "code",
   "execution_count": 7,
   "metadata": {},
   "outputs": [
    {
     "data": {
      "text/plain": [
       "array(['Apr 19', 'Apr 18', 'Apr 15', 'Mar 8', 'Apr 17', '6 Dec 2023',\n",
       "       '18 Nov 2023', 'Apr 16', 'Apr 13', 'Apr 14', 'Apr 12', 'Apr 11',\n",
       "       'Apr 10', 'Apr 9', 'Apr 8', 'Apr 7', 'Apr 6', 'Apr 5', 'Apr 4',\n",
       "       'Apr 3', 'Apr 2', 'Apr 1', 'Mar 31', 'Mar 30', 'Mar 29', 'Mar 28',\n",
       "       'Mar 27', 'Mar 26', 'Mar 25', 'Mar 24', 'Mar 23', 'Mar 22',\n",
       "       'Mar 21', 'Mar 20', 'Mar 19', 'Mar 18', 'Mar 17', 'Mar 16',\n",
       "       'Mar 15', 'Mar 14', 'Mar 13', 'Mar 12', 'Mar 11', 'Mar 10',\n",
       "       'Mar 9', 'Mar 7', 'Mar 6', 'Mar 5', 'Mar 4', 'Mar 3', 'Mar 2',\n",
       "       'Mar 1', 'Feb 29', 'Feb 28', 'Feb 27', 'Feb 26', 'Feb 25',\n",
       "       'Feb 24', 'Feb 23', 'Feb 22', 'Feb 21', 'Feb 20', 'Feb 19',\n",
       "       'Feb 18', 'Feb 17', 'Feb 16', 'Feb 15', 'Feb 14', 'Feb 13',\n",
       "       'Feb 12', 'Feb 11', 'Feb 10', 'Feb 9', 'Feb 8', 'Feb 7', 'Feb 6',\n",
       "       'Feb 5', 'Feb 4', 'Feb 3', 'Feb 2', 'Feb 1', 'Jan 31', 'Jan 30',\n",
       "       'Jan 29', 'Jan 28', 'Jan 27', 'Jan 26', 'Jan 25', 'Jan 24',\n",
       "       'Jan 23', 'Jan 22', 'Jan 21', 'Jan 20', 'Jan 19', 'Jan 18',\n",
       "       'Jan 17', 'Jan 16', 'Jan 15', 'Jan 14', 'Jan 13', 'Jan 12',\n",
       "       'Jan 11', 'Jan 10', 'Jan 9', 'Jan 8', 'Jan 7', 'Jan 6', 'Jan 5',\n",
       "       'Jan 4', 'Jan 3', 'Jan 2', 'Jan 1', '31 Dec 2023', '30 Dec 2023',\n",
       "       '29 Dec 2023', '28 Dec 2023', '27 Dec 2023', '26 Dec 2023',\n",
       "       '25 Dec 2023', '24 Dec 2023', '23 Dec 2023', '22 Dec 2023',\n",
       "       '21 Dec 2023', '20 Dec 2023', '19 Dec 2023', '18 Dec 2023',\n",
       "       '17 Dec 2023', '16 Dec 2023', '15 Dec 2023', '14 Dec 2023',\n",
       "       '13 Dec 2023', '12 Dec 2023', '11 Dec 2023', '10 Dec 2023',\n",
       "       '9 Dec 2023', '8 Dec 2023', '7 Dec 2023', '5 Dec 2023',\n",
       "       '4 Dec 2023', '3 Dec 2023', '2 Dec 2023', '1 Dec 2023',\n",
       "       '30 Nov 2023', '29 Nov 2023', '28 Nov 2023', '27 Nov 2023',\n",
       "       '26 Nov 2023', '25 Nov 2023', '24 Nov 2023', '23 Nov 2023',\n",
       "       '22 Nov 2023', '21 Nov 2023', '20 Nov 2023', '19 Nov 2023',\n",
       "       '17 Nov 2023', '16 Nov 2023', '15 Nov 2023', '14 Nov 2023',\n",
       "       '13 Nov 2023', '12 Nov 2023', '11 Nov 2023', '10 Nov 2023',\n",
       "       '9 Nov 2023', '8 Nov 2023', '7 Nov 2023', '6 Nov 2023',\n",
       "       '5 Nov 2023', '4 Nov 2023', '3 Nov 2023', '2 Nov 2023',\n",
       "       '1 Nov 2023', '31 Oct 2023', '30 Oct 2023', '29 Oct 2023',\n",
       "       '28 Oct 2023', '27 Oct 2023', '26 Oct 2023', '25 Oct 2023',\n",
       "       '24 Oct 2023', '23 Oct 2023', '22 Oct 2023', '21 Oct 2023',\n",
       "       '20 Oct 2023', '19 Oct 2023', '18 Oct 2023', '17 Oct 2023',\n",
       "       '16 Oct 2023', '15 Oct 2023', '14 Oct 2023', '13 Oct 2023',\n",
       "       '12 Oct 2023', '11 Oct 2023', '10 Oct 2023', '9 Oct 2023',\n",
       "       '8 Oct 2023', '7 Oct 2023', '6 Oct 2023', '5 Oct 2023',\n",
       "       '4 Oct 2023', '3 Oct 2023', '2 Oct 2023', '1 Oct 2023',\n",
       "       '30 Sep 2023', '29 Sep 2023', '28 Sep 2023', '27 Sep 2023',\n",
       "       '26 Sep 2023', '25 Sep 2023', '24 Sep 2023', '23 Sep 2023',\n",
       "       '22 Sep 2023', '21 Sep 2023', '20 Sep 2023', '19 Sep 2023',\n",
       "       '18 Sep 2023', '17 Sep 2023', '16 Sep 2023', '15 Sep 2023',\n",
       "       '14 Sep 2023', '13 Sep 2023', '12 Sep 2023', '11 Sep 2023',\n",
       "       '10 Sep 2023', '9 Sep 2023', '8 Sep 2023', '7 Sep 2023',\n",
       "       '6 Sep 2023', '5 Sep 2023', '4 Sep 2023', '3 Sep 2023',\n",
       "       '2 Sep 2023', '1 Sep 2023', '31 Aug 2023', '30 Aug 2023',\n",
       "       '29 Aug 2023', '28 Aug 2023', '27 Aug 2023', '26 Aug 2023',\n",
       "       '25 Aug 2023', '24 Aug 2023', '23 Aug 2023', '22 Aug 2023',\n",
       "       '21 Aug 2023', '20 Aug 2023', '19 Aug 2023', '18 Aug 2023',\n",
       "       '17 Aug 2023', '16 Aug 2023', '15 Aug 2023', '14 Aug 2023',\n",
       "       '13 Aug 2023', '12 Aug 2023', '11 Aug 2023', '10 Aug 2023',\n",
       "       '9 Aug 2023', '8 Aug 2023', '7 Aug 2023', '6 Aug 2023',\n",
       "       '5 Aug 2023', '4 Aug 2023', '3 Aug 2023', '2 Aug 2023',\n",
       "       '1 Aug 2023', '31 Jul 2023', '30 Jul 2023', '29 Jul 2023',\n",
       "       '28 Jul 2023', '27 Jul 2023', '26 Jul 2023', '25 Jul 2023',\n",
       "       '24 Jul 2023', '23 Jul 2023', '22 Jul 2023', '21 Jul 2023',\n",
       "       '20 Jul 2023', '19 Jul 2023', '18 Jul 2023', '17 Jul 2023',\n",
       "       '16 Jul 2023', '15 Jul 2023', '14 Jul 2023', '13 Jul 2023',\n",
       "       '12 Jul 2023', '11 Jul 2023', '10 Jul 2023', '9 Jul 2023',\n",
       "       '8 Jul 2023', '7 Jul 2023', '6 Jul 2023', '5 Jul 2023',\n",
       "       '4 Jul 2023', '3 Jul 2023', '2 Jul 2023', '1 Jul 2023',\n",
       "       '30 Jun 2023', '29 Jun 2023', '28 Jun 2023', '27 Jun 2023',\n",
       "       '26 Jun 2023', '25 Jun 2023', '24 Jun 2023', '23 Jun 2023',\n",
       "       '22 Jun 2023', '21 Jun 2023', '20 Jun 2023', '19 Jun 2023',\n",
       "       '18 Jun 2023', '17 Jun 2023', '16 Jun 2023', '15 Jun 2023'],\n",
       "      dtype=object)"
      ]
     },
     "execution_count": 7,
     "metadata": {},
     "output_type": "execute_result"
    }
   ],
   "source": [
    "# check date data type\n",
    "df['date'].unique()"
   ]
  },
  {
   "cell_type": "markdown",
   "metadata": {},
   "source": [
    "The dates of 2024 have been saved with just day and month, therefore we need to add the year"
   ]
  },
  {
   "cell_type": "code",
   "execution_count": 8,
   "metadata": {},
   "outputs": [
    {
     "data": {
      "text/plain": [
       "10"
      ]
     },
     "execution_count": 8,
     "metadata": {},
     "output_type": "execute_result"
    }
   ],
   "source": [
    "len('9 Dec 2023')"
   ]
  },
  {
   "cell_type": "code",
   "execution_count": 9,
   "metadata": {},
   "outputs": [],
   "source": [
    "# add the year to all the dates of 2024\n",
    "df['date'] = df['date'].apply(lambda x: x + ' 2024' if len(x) < 10 else x)"
   ]
  },
  {
   "cell_type": "code",
   "execution_count": 10,
   "metadata": {},
   "outputs": [],
   "source": [
    "# convert the date to datetime\n",
    "df['date'] = pd.to_datetime(df['date'])"
   ]
  },
  {
   "cell_type": "code",
   "execution_count": 11,
   "metadata": {},
   "outputs": [],
   "source": [
    "# clean the text column\n",
    "df['text'] = df['text'].apply(lambda x: x.replace('\\n', ' '))"
   ]
  },
  {
   "cell_type": "code",
   "execution_count": 12,
   "metadata": {},
   "outputs": [
    {
     "data": {
      "text/html": [
       "<div>\n",
       "<style scoped>\n",
       "    .dataframe tbody tr th:only-of-type {\n",
       "        vertical-align: middle;\n",
       "    }\n",
       "\n",
       "    .dataframe tbody tr th {\n",
       "        vertical-align: top;\n",
       "    }\n",
       "\n",
       "    .dataframe thead th {\n",
       "        text-align: right;\n",
       "    }\n",
       "</style>\n",
       "<table border=\"1\" class=\"dataframe\">\n",
       "  <thead>\n",
       "    <tr style=\"text-align: right;\">\n",
       "      <th></th>\n",
       "      <th>user</th>\n",
       "      <th>username</th>\n",
       "      <th>date</th>\n",
       "      <th>text</th>\n",
       "      <th>comments</th>\n",
       "      <th>retweets</th>\n",
       "      <th>quotes</th>\n",
       "      <th>likes</th>\n",
       "    </tr>\n",
       "  </thead>\n",
       "  <tbody>\n",
       "    <tr>\n",
       "      <th>0</th>\n",
       "      <td>Sciking</td>\n",
       "      <td>@ScikingFS</td>\n",
       "      <td>2024-04-19</td>\n",
       "      <td>Se solo le donne possono parlare di aborto, so...</td>\n",
       "      <td>0</td>\n",
       "      <td>0</td>\n",
       "      <td>0</td>\n",
       "      <td>0</td>\n",
       "    </tr>\n",
       "    <tr>\n",
       "      <th>1</th>\n",
       "      <td>💲ℹ️〽️⭕.🇪🇺🇺🇦 #Il Silenzio é Sottovalutato❣️©🤫</td>\n",
       "      <td>@Simo42953017</td>\n",
       "      <td>2024-04-19</td>\n",
       "      <td>#femminicidio #femminicidi</td>\n",
       "      <td>0</td>\n",
       "      <td>0</td>\n",
       "      <td>0</td>\n",
       "      <td>0</td>\n",
       "    </tr>\n",
       "    <tr>\n",
       "      <th>2</th>\n",
       "      <td>pubblicanow.it</td>\n",
       "      <td>@pubblicanow</td>\n",
       "      <td>2024-04-19</td>\n",
       "      <td>Paesi Baschi: aiuto annuale per gli orfani di ...</td>\n",
       "      <td>0</td>\n",
       "      <td>0</td>\n",
       "      <td>0</td>\n",
       "      <td>0</td>\n",
       "    </tr>\n",
       "    <tr>\n",
       "      <th>3</th>\n",
       "      <td>Italy in Austria</td>\n",
       "      <td>@ItalyinAustria</td>\n",
       "      <td>2024-04-19</td>\n",
       "      <td>L'Ambasciata d'Italia a Vienna aderisce alla c...</td>\n",
       "      <td>0</td>\n",
       "      <td>0</td>\n",
       "      <td>0</td>\n",
       "      <td>0</td>\n",
       "    </tr>\n",
       "    <tr>\n",
       "      <th>4</th>\n",
       "      <td>𝙈𝙖𝙧𝙠 𝙋. 𝙇𝙚 𝙃𝙖𝙫𝙧𝙚</td>\n",
       "      <td>@marklehavre</td>\n",
       "      <td>2024-04-19</td>\n",
       "      <td>Bhe speriamo che non sia per qualche femminici...</td>\n",
       "      <td>0</td>\n",
       "      <td>0</td>\n",
       "      <td>0</td>\n",
       "      <td>1</td>\n",
       "    </tr>\n",
       "  </tbody>\n",
       "</table>\n",
       "</div>"
      ],
      "text/plain": [
       "                                           user         username       date  \\\n",
       "0                                       Sciking       @ScikingFS 2024-04-19   \n",
       "1  💲ℹ️〽️⭕.🇪🇺🇺🇦 #Il Silenzio é Sottovalutato❣️©🤫    @Simo42953017 2024-04-19   \n",
       "2                                pubblicanow.it     @pubblicanow 2024-04-19   \n",
       "3                              Italy in Austria  @ItalyinAustria 2024-04-19   \n",
       "4                              𝙈𝙖𝙧𝙠 𝙋. 𝙇𝙚 𝙃𝙖𝙫𝙧𝙚     @marklehavre 2024-04-19   \n",
       "\n",
       "                                                text  comments retweets  \\\n",
       "0  Se solo le donne possono parlare di aborto, so...         0        0   \n",
       "1                         #femminicidio #femminicidi         0        0   \n",
       "2  Paesi Baschi: aiuto annuale per gli orfani di ...         0        0   \n",
       "3  L'Ambasciata d'Italia a Vienna aderisce alla c...         0        0   \n",
       "4  Bhe speriamo che non sia per qualche femminici...         0        0   \n",
       "\n",
       "   quotes likes  \n",
       "0       0     0  \n",
       "1       0     0  \n",
       "2       0     0  \n",
       "3       0     0  \n",
       "4       0     1  "
      ]
     },
     "execution_count": 12,
     "metadata": {},
     "output_type": "execute_result"
    }
   ],
   "source": [
    "# first five rows\n",
    "df.head()"
   ]
  },
  {
   "cell_type": "markdown",
   "metadata": {},
   "source": [
    "This is the cleaned final data frame!"
   ]
  },
  {
   "cell_type": "markdown",
   "metadata": {},
   "source": [
    "## Exploratory Data Analysis"
   ]
  },
  {
   "cell_type": "markdown",
   "metadata": {},
   "source": [
    "### Polarization event"
   ]
  },
  {
   "cell_type": "markdown",
   "metadata": {},
   "source": [
    "We chose as a polarization event the \"Cecchettin case\", that greatly moved public opinion regarding the hot topic of violence on women in italy."
   ]
  },
  {
   "cell_type": "code",
   "execution_count": 13,
   "metadata": {},
   "outputs": [],
   "source": [
    "# create a variable for the polarizing event\n",
    "pol_event = dt.datetime(2023, 11, 11)"
   ]
  },
  {
   "cell_type": "markdown",
   "metadata": {},
   "source": [
    "### Simple Tweet Count"
   ]
  },
  {
   "cell_type": "code",
   "execution_count": 14,
   "metadata": {},
   "outputs": [
    {
     "data": {
      "text/html": [
       "<div>\n",
       "<style scoped>\n",
       "    .dataframe tbody tr th:only-of-type {\n",
       "        vertical-align: middle;\n",
       "    }\n",
       "\n",
       "    .dataframe tbody tr th {\n",
       "        vertical-align: top;\n",
       "    }\n",
       "\n",
       "    .dataframe thead th {\n",
       "        text-align: right;\n",
       "    }\n",
       "</style>\n",
       "<table border=\"1\" class=\"dataframe\">\n",
       "  <thead>\n",
       "    <tr style=\"text-align: right;\">\n",
       "      <th></th>\n",
       "      <th>user</th>\n",
       "      <th>username</th>\n",
       "      <th>text</th>\n",
       "      <th>comments</th>\n",
       "      <th>retweets</th>\n",
       "      <th>quotes</th>\n",
       "      <th>likes</th>\n",
       "    </tr>\n",
       "    <tr>\n",
       "      <th>date</th>\n",
       "      <th></th>\n",
       "      <th></th>\n",
       "      <th></th>\n",
       "      <th></th>\n",
       "      <th></th>\n",
       "      <th></th>\n",
       "      <th></th>\n",
       "    </tr>\n",
       "  </thead>\n",
       "  <tbody>\n",
       "    <tr>\n",
       "      <th>2023-06-15</th>\n",
       "      <td>3</td>\n",
       "      <td>3</td>\n",
       "      <td>3</td>\n",
       "      <td>3</td>\n",
       "      <td>3</td>\n",
       "      <td>3</td>\n",
       "      <td>3</td>\n",
       "    </tr>\n",
       "    <tr>\n",
       "      <th>2023-06-16</th>\n",
       "      <td>23</td>\n",
       "      <td>23</td>\n",
       "      <td>23</td>\n",
       "      <td>23</td>\n",
       "      <td>23</td>\n",
       "      <td>23</td>\n",
       "      <td>23</td>\n",
       "    </tr>\n",
       "    <tr>\n",
       "      <th>2023-06-17</th>\n",
       "      <td>12</td>\n",
       "      <td>12</td>\n",
       "      <td>12</td>\n",
       "      <td>12</td>\n",
       "      <td>12</td>\n",
       "      <td>12</td>\n",
       "      <td>12</td>\n",
       "    </tr>\n",
       "    <tr>\n",
       "      <th>2023-06-18</th>\n",
       "      <td>27</td>\n",
       "      <td>27</td>\n",
       "      <td>27</td>\n",
       "      <td>27</td>\n",
       "      <td>27</td>\n",
       "      <td>27</td>\n",
       "      <td>27</td>\n",
       "    </tr>\n",
       "    <tr>\n",
       "      <th>2023-06-19</th>\n",
       "      <td>22</td>\n",
       "      <td>22</td>\n",
       "      <td>22</td>\n",
       "      <td>22</td>\n",
       "      <td>22</td>\n",
       "      <td>22</td>\n",
       "      <td>22</td>\n",
       "    </tr>\n",
       "  </tbody>\n",
       "</table>\n",
       "</div>"
      ],
      "text/plain": [
       "            user  username  text  comments  retweets  quotes  likes\n",
       "date                                                               \n",
       "2023-06-15     3         3     3         3         3       3      3\n",
       "2023-06-16    23        23    23        23        23      23     23\n",
       "2023-06-17    12        12    12        12        12      12     12\n",
       "2023-06-18    27        27    27        27        27      27     27\n",
       "2023-06-19    22        22    22        22        22      22     22"
      ]
     },
     "execution_count": 14,
     "metadata": {},
     "output_type": "execute_result"
    }
   ],
   "source": [
    "# group the data by date\n",
    "count_by_date = df.groupby('date').count()\n",
    "count_by_date.head()"
   ]
  },
  {
   "cell_type": "code",
   "execution_count": 15,
   "metadata": {},
   "outputs": [
    {
     "data": {
      "image/png": "[encoded data removed]",
      "text/plain": [
       "<Figure size 1500x700 with 1 Axes>"
      ]
     },
     "metadata": {},
     "output_type": "display_data"
    }
   ],
   "source": [
    "# plot the number of tweets by date\n",
    "fig, ax = plt.subplots(figsize=(15, 7))\n",
    "ax.plot(count_by_date.index, count_by_date['text'], label='Number of Tweets', color='blue')\n",
    "ax.axvline(pol_event, color='red', linestyle='--', label='Cecchettin')\n",
    "ax.set_title('Number of Tweets by Date')\n",
    "ax.set_xlabel('Date')\n",
    "ax.set_ylabel('Number of Tweets containing the word \"Femicide\"')\n",
    "ax.legend()\n",
    "\n",
    "plt.show()"
   ]
  },
  {
   "cell_type": "markdown",
   "metadata": {},
   "source": [
    "### Number of Different Users"
   ]
  },
  {
   "cell_type": "code",
   "execution_count": 16,
   "metadata": {},
   "outputs": [
    {
     "name": "stdout",
     "output_type": "stream",
     "text": [
      "There are 17773 different users in the dataset (that contains 40921 tweets)\n"
     ]
    }
   ],
   "source": [
    "# count the number of different users\n",
    "n_different_users = df['user'].nunique()\n",
    "print(f'There are {n_different_users} different users in the dataset (that contains {len(df)} tweets)')"
   ]
  },
  {
   "cell_type": "markdown",
   "metadata": {},
   "source": [
    "There are 17773 different users in the dataset (that contains 40921 tweets)"
   ]
  },
  {
   "cell_type": "code",
   "execution_count": 17,
   "metadata": {},
   "outputs": [
    {
     "data": {
      "text/plain": [
       "array(['Sciking', '💲ℹ️〽️⭕.🇪🇺🇺🇦 #Il Silenzio é Sottovalutato❣️©🤫',\n",
       "       'pubblicanow.it', ..., 'Marco Donadel', 'gabriele farina',\n",
       "       'The Baseball Furies'], dtype=object)"
      ]
     },
     "execution_count": 17,
     "metadata": {},
     "output_type": "execute_result"
    }
   ],
   "source": [
    "# list of all different users\n",
    "different_users = df['user'].unique()\n",
    "different_users"
   ]
  },
  {
   "cell_type": "code",
   "execution_count": 18,
   "metadata": {},
   "outputs": [
    {
     "data": {
      "text/html": [
       "<div>\n",
       "<style scoped>\n",
       "    .dataframe tbody tr th:only-of-type {\n",
       "        vertical-align: middle;\n",
       "    }\n",
       "\n",
       "    .dataframe tbody tr th {\n",
       "        vertical-align: top;\n",
       "    }\n",
       "\n",
       "    .dataframe thead th {\n",
       "        text-align: right;\n",
       "    }\n",
       "</style>\n",
       "<table border=\"1\" class=\"dataframe\">\n",
       "  <thead>\n",
       "    <tr style=\"text-align: right;\">\n",
       "      <th></th>\n",
       "      <th>user</th>\n",
       "      <th>username</th>\n",
       "      <th>date</th>\n",
       "      <th>text</th>\n",
       "      <th>comments</th>\n",
       "      <th>retweets</th>\n",
       "      <th>quotes</th>\n",
       "      <th>likes</th>\n",
       "    </tr>\n",
       "  </thead>\n",
       "  <tbody>\n",
       "    <tr>\n",
       "      <th>0</th>\n",
       "      <td>raffaele52</td>\n",
       "      <td>@raffaele521</td>\n",
       "      <td>[2023-11-21 00:00:00]</td>\n",
       "      <td>[La sua conoscenza del femminicidio è straordi...</td>\n",
       "      <td>[0]</td>\n",
       "      <td>[0]</td>\n",
       "      <td>[0]</td>\n",
       "      <td>[0]</td>\n",
       "    </tr>\n",
       "    <tr>\n",
       "      <th>1</th>\n",
       "      <td>Shana Loricco</td>\n",
       "      <td>@shanaloricco201</td>\n",
       "      <td>[2023-12-05 00:00:00]</td>\n",
       "      <td>[Parole forti, chiare. Giuste. #LorenzoGasparr...</td>\n",
       "      <td>[0]</td>\n",
       "      <td>[0]</td>\n",
       "      <td>[0]</td>\n",
       "      <td>[0]</td>\n",
       "    </tr>\n",
       "    <tr>\n",
       "      <th>2</th>\n",
       "      <td>\"Lehodettocresci\" E io sono cresciuta🌈🌻</td>\n",
       "      <td>@nagioia08</td>\n",
       "      <td>[2023-10-04 00:00:00]</td>\n",
       "      <td>[D'altronde Pi3rsilvio ha cacciato la d'urso p...</td>\n",
       "      <td>[0]</td>\n",
       "      <td>[0]</td>\n",
       "      <td>[0]</td>\n",
       "      <td>[ 8]</td>\n",
       "    </tr>\n",
       "    <tr>\n",
       "      <th>3</th>\n",
       "      <td># claudia ✧ 🔭</td>\n",
       "      <td>@308bangtan</td>\n",
       "      <td>[2023-08-01 00:00:00]</td>\n",
       "      <td>[in realtà penalmente parlando non è uguale, u...</td>\n",
       "      <td>[0]</td>\n",
       "      <td>[0]</td>\n",
       "      <td>[0]</td>\n",
       "      <td>[0]</td>\n",
       "    </tr>\n",
       "    <tr>\n",
       "      <th>4</th>\n",
       "      <td>#@&amp;</td>\n",
       "      <td>@SalzanoBruna</td>\n",
       "      <td>[2023-11-22 00:00:00, 2023-11-22 00:00:00, 202...</td>\n",
       "      <td>[Non per commentare me. Se credi tanto al risp...</td>\n",
       "      <td>[0, 1, 2]</td>\n",
       "      <td>[0, 0, 0]</td>\n",
       "      <td>[0, 0, 0]</td>\n",
       "      <td>[0, 0, 0]</td>\n",
       "    </tr>\n",
       "  </tbody>\n",
       "</table>\n",
       "</div>"
      ],
      "text/plain": [
       "                                      user          username  \\\n",
       "0                               raffaele52      @raffaele521   \n",
       "1                           Shana Loricco   @shanaloricco201   \n",
       "2  \"Lehodettocresci\" E io sono cresciuta🌈🌻        @nagioia08   \n",
       "3                            # claudia ✧ 🔭       @308bangtan   \n",
       "4                                      #@&     @SalzanoBruna   \n",
       "\n",
       "                                                date  \\\n",
       "0                              [2023-11-21 00:00:00]   \n",
       "1                              [2023-12-05 00:00:00]   \n",
       "2                              [2023-10-04 00:00:00]   \n",
       "3                              [2023-08-01 00:00:00]   \n",
       "4  [2023-11-22 00:00:00, 2023-11-22 00:00:00, 202...   \n",
       "\n",
       "                                                text   comments   retweets  \\\n",
       "0  [La sua conoscenza del femminicidio è straordi...        [0]        [0]   \n",
       "1  [Parole forti, chiare. Giuste. #LorenzoGasparr...        [0]        [0]   \n",
       "2  [D'altronde Pi3rsilvio ha cacciato la d'urso p...        [0]        [0]   \n",
       "3  [in realtà penalmente parlando non è uguale, u...        [0]        [0]   \n",
       "4  [Non per commentare me. Se credi tanto al risp...  [0, 1, 2]  [0, 0, 0]   \n",
       "\n",
       "      quotes      likes  \n",
       "0        [0]        [0]  \n",
       "1        [0]        [0]  \n",
       "2        [0]       [ 8]  \n",
       "3        [0]        [0]  \n",
       "4  [0, 0, 0]  [0, 0, 0]  "
      ]
     },
     "execution_count": 18,
     "metadata": {},
     "output_type": "execute_result"
    }
   ],
   "source": [
    "users_df = df.groupby('user').agg(list).reset_index()\n",
    "users_df['username'] = users_df['username'].apply(lambda x: x[0])\n",
    "users_df.head()"
   ]
  },
  {
   "cell_type": "code",
   "execution_count": 19,
   "metadata": {},
   "outputs": [],
   "source": [
    "users_df['n_tweets'] = users_df['text'].apply(lambda x: len(x))"
   ]
  },
  {
   "cell_type": "markdown",
   "metadata": {},
   "source": [
    "### Number of Tweets per User"
   ]
  },
  {
   "cell_type": "code",
   "execution_count": 20,
   "metadata": {},
   "outputs": [
    {
     "data": {
      "image/png": "[encoded data removed]",
      "text/plain": [
       "<Figure size 1500x700 with 1 Axes>"
      ]
     },
     "metadata": {},
     "output_type": "display_data"
    }
   ],
   "source": [
    "fig, ax = plt.subplots(figsize=(15, 7))\n",
    "users_df['n_tweets'].value_counts().sort_index().plot(kind='bar', ax=ax)\n",
    "ax.set_title('Number of Tweets per User')\n",
    "ax.set_xlabel('Number of Tweets')\n",
    "ax.set_ylabel('Number of Users')\n",
    "ax.set_xlim(-1, 23)\n",
    "\n",
    "plt.show()"
   ]
  },
  {
   "cell_type": "markdown",
   "metadata": {},
   "source": [
    "## Male vs Female"
   ]
  },
  {
   "cell_type": "code",
   "execution_count": 21,
   "metadata": {},
   "outputs": [
    {
     "data": {
      "text/plain": [
       "['achille', 'adamo', 'adelmo', 'adeodatus', 'adriano']"
      ]
     },
     "execution_count": 21,
     "metadata": {},
     "output_type": "execute_result"
    }
   ],
   "source": [
    "male_names = []\n",
    "with open('male_names.txt', 'r') as f:\n",
    "    for line in f:\n",
    "        male_names.append(line.strip().lower())\n",
    "male_names[:5]"
   ]
  },
  {
   "cell_type": "markdown",
   "metadata": {},
   "source": [
    "## Data Processing"
   ]
  },
  {
   "cell_type": "markdown",
   "metadata": {},
   "source": [
    "### Split Dates"
   ]
  },
  {
   "cell_type": "code",
   "execution_count": 22,
   "metadata": {},
   "outputs": [],
   "source": [
    "pol_event_date = dt.datetime(2023, 11, 11)\n",
    "df['after'] = 0\n",
    "df.loc[df['date'] > pol_event_date, 'after'] = 1"
   ]
  },
  {
   "cell_type": "markdown",
   "metadata": {},
   "source": [
    "### Create Hashtag Column"
   ]
  },
  {
   "cell_type": "code",
   "execution_count": 23,
   "metadata": {},
   "outputs": [],
   "source": [
    "# function to get hashtags\n",
    "def get_hashtags(text):\n",
    "    hashtags = re.findall(r'#\\w+', text)\n",
    "    if hashtags != []:\n",
    "        return re.findall(r'#\\w+', text)\n",
    "    else:\n",
    "        return np.nan"
   ]
  },
  {
   "cell_type": "code",
   "execution_count": 24,
   "metadata": {},
   "outputs": [],
   "source": [
    "df['hashtags'] = df['text'].apply(get_hashtags)"
   ]
  },
  {
   "cell_type": "code",
   "execution_count": 25,
   "metadata": {},
   "outputs": [
    {
     "data": {
      "text/plain": [
       "0                            [#femminicidio, #femminicidi]\n",
       "1                                               [#Raiplay]\n",
       "2                                          [#Femminicidio]\n",
       "3                    [#Attualità, #Italia, #UltimeNotizie]\n",
       "4                                   [#Sardegna, #violenza]\n",
       "                               ...                        \n",
       "13729                            [#isola, #isoladeifamosi]\n",
       "13730    [#parole, #discriminazione, #pregiudizi, #ster...\n",
       "13731    [#Femminicidio, #ConsigliodeiMinistri, #violen...\n",
       "13732    [#WoltersKluwerItalia, #Femminicidio, #Violenz...\n",
       "13733                                        [#IoSeguoTgr]\n",
       "Name: hashtags, Length: 13734, dtype: object"
      ]
     },
     "execution_count": 25,
     "metadata": {},
     "output_type": "execute_result"
    }
   ],
   "source": [
    "df.loc[df['hashtags'].notna(), 'hashtags'].reset_index(drop=True)"
   ]
  },
  {
   "cell_type": "markdown",
   "metadata": {},
   "source": [
    "### Clean Tweets"
   ]
  },
  {
   "cell_type": "code",
   "execution_count": 38,
   "metadata": {},
   "outputs": [],
   "source": [
    "def remover(text, chars = ['@', '#', 'http'], emojis = True):\n",
    "    if emojis == True:\n",
    "        starting_chars = '|'.join(chars)\n",
    "        for word in text.split():\n",
    "            if re.match(f'{starting_chars}[A-za-z]+', word):\n",
    "                text = text.replace(word, '')\n",
    "                \n",
    "    return text"
   ]
  },
  {
   "cell_type": "code",
   "execution_count": 40,
   "metadata": {},
   "outputs": [
    {
     "data": {
      "text/plain": [
       "'this sample text contains laughing emojis'"
      ]
     },
     "execution_count": 40,
     "metadata": {},
     "output_type": "execute_result"
    }
   ],
   "source": [
    "text = \"This sample text contains laughing emojis 😀 😃 😄 😁 😆 😅 😂 🤣\"\n",
    "\n",
    "#print text after removing the emojis from it\n",
    "clean(remover(text), no_emoji = True)"
   ]
  },
  {
   "cell_type": "code",
   "execution_count": 41,
   "metadata": {},
   "outputs": [],
   "source": [
    "df['clean_text'] = df['text'].apply(lambda x: remover(x).lower())\n",
    "df['clean_text'] = df['clean_text'].apply(lambda x: clean(x, no_urls=True, no_emails=True, no_phone_numbers=True, no_numbers=True, no_digits=True, no_currency_symbols=True, no_punct=True, no_emoji=True, replace_with_url='', replace_with_email='', replace_with_phone_number='', replace_with_number='', replace_with_digit='', replace_with_currency_symbol='', replace_with_punct=''))"
   ]
  },
  {
   "cell_type": "code",
   "execution_count": 43,
   "metadata": {},
   "outputs": [],
   "source": [
    "nlp = spacy.load('it_core_news_sm')"
   ]
  },
  {
   "cell_type": "code",
   "execution_count": 45,
   "metadata": {},
   "outputs": [
    {
     "name": "stdout",
     "output_type": "stream",
     "text": [
      "[se solo le donne possono parlare di aborto solo gli uomini possono parlare di femminicidio semplice conseguenza logica, , paesi baschi aiuto annuale per gli orfani di femminicidio pubblicanowitpa chiara imbimbo, lambasciata ditalia a vienna aderisce alla campagna panchine rosse a palazzo metternich un simbolo per ricordare quotidianamente che il femminicidio e la violenza sulle donne non devono avere spazio nella societa, bhe speriamo che non sia per qualche femminicidio o omicidio buon lavoro]\n"
     ]
    }
   ],
   "source": [
    "texts = df['clean_text'].values\n",
    "documents = list(nlp.pipe(texts))"
   ]
  },
  {
   "cell_type": "code",
   "execution_count": null,
   "metadata": {},
   "outputs": [],
   "source": []
  }
 ],
 "metadata": {
  "kernelspec": {
   "display_name": "Python 3",
   "language": "python",
   "name": "python3"
  },
  "language_info": {
   "codemirror_mode": {
    "name": "ipython",
    "version": 3
   },
   "file_extension": ".py",
   "mimetype": "text/x-python",
   "name": "python",
   "nbconvert_exporter": "python",
   "pygments_lexer": "ipython3",
   "version": "3.11.0"
  }
 },
 "nbformat": 4,
 "nbformat_minor": 2
}
