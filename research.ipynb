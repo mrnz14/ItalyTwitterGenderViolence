{
 "cells": [
  {
   "cell_type": "markdown",
   "metadata": {},
   "source": [
    "# Unveiling Bias in Gender Violence Perception on Italian Social Media"
   ]
  },
  {
   "cell_type": "markdown",
   "metadata": {},
   "source": [
    "## Importing Libraries"
   ]
  },
  {
   "cell_type": "code",
   "execution_count": 1,
   "metadata": {},
   "outputs": [
    {
     "name": "stdout",
     "output_type": "stream",
     "text": [
      "Requirement already satisfied: clean-text in c:\\users\\lepol\\appdata\\local\\programs\\python\\python311\\lib\\site-packages (0.6.0)\n",
      "Requirement already satisfied: emoji<2.0.0,>=1.0.0 in c:\\users\\lepol\\appdata\\local\\programs\\python\\python311\\lib\\site-packages (from clean-text) (1.7.0)\n",
      "Requirement already satisfied: ftfy<7.0,>=6.0 in c:\\users\\lepol\\appdata\\local\\programs\\python\\python311\\lib\\site-packages (from clean-text) (6.2.0)\n",
      "Requirement already satisfied: wcwidth<0.3.0,>=0.2.12 in c:\\users\\lepol\\appdata\\local\\programs\\python\\python311\\lib\\site-packages (from ftfy<7.0,>=6.0->clean-text) (0.2.13)\n",
      "Note: you may need to restart the kernel to use updated packages.\n"
     ]
    }
   ],
   "source": [
    "%pip install clean-text"
   ]
  },
  {
   "cell_type": "code",
   "execution_count": 1,
   "metadata": {},
   "outputs": [
    {
     "name": "stderr",
     "output_type": "stream",
     "text": [
      "Since the GPL-licensed package `unidecode` is not installed, using Python's `unicodedata` package which yields worse results.\n"
     ]
    }
   ],
   "source": [
    "# import all the necessary libraries\n",
    "import pandas as pd\n",
    "import numpy as np\n",
    "import matplotlib.pyplot as plt\n",
    "import seaborn as sns\n",
    "import datetime as dt\n",
    "import regex as re\n",
    "import spacy\n",
    "from cleantext import clean\n",
    "from sklearn.metrics.pairwise import cosine_similarity\n",
    "from sklearn.manifold import TSNE\n"
   ]
  },
  {
   "cell_type": "code",
   "execution_count": 3,
   "metadata": {},
   "outputs": [
    {
     "name": "stdout",
     "output_type": "stream",
     "text": [
      "Collecting it-core-news-sm==3.7.0\n",
      "  Downloading https://github.com/explosion/spacy-models/releases/download/it_core_news_sm-3.7.0/it_core_news_sm-3.7.0-py3-none-any.whl (13.0 MB)\n",
      "     ---------------------------------------- 0.0/13.0 MB ? eta -:--:--\n",
      "      --------------------------------------- 0.2/13.0 MB 5.0 MB/s eta 0:00:03\n",
      "     - -------------------------------------- 0.5/13.0 MB 5.2 MB/s eta 0:00:03\n",
      "     -- ------------------------------------- 0.7/13.0 MB 5.2 MB/s eta 0:00:03\n",
      "     --- ------------------------------------ 1.0/13.0 MB 5.4 MB/s eta 0:00:03\n",
      "     ---- ----------------------------------- 1.3/13.0 MB 5.6 MB/s eta 0:00:03\n",
      "     ---- ----------------------------------- 1.6/13.0 MB 5.6 MB/s eta 0:00:03\n",
      "     ----- ---------------------------------- 1.8/13.0 MB 5.4 MB/s eta 0:00:03\n",
      "     ------ --------------------------------- 2.1/13.0 MB 5.5 MB/s eta 0:00:02\n",
      "     ------- -------------------------------- 2.4/13.0 MB 5.6 MB/s eta 0:00:02\n",
      "     ------- -------------------------------- 2.6/13.0 MB 5.5 MB/s eta 0:00:02\n",
      "     -------- ------------------------------- 2.8/13.0 MB 5.5 MB/s eta 0:00:02\n",
      "     --------- ------------------------------ 3.1/13.0 MB 5.6 MB/s eta 0:00:02\n",
      "     ---------- ----------------------------- 3.4/13.0 MB 5.6 MB/s eta 0:00:02\n",
      "     ----------- ---------------------------- 3.7/13.0 MB 5.7 MB/s eta 0:00:02\n",
      "     ------------ --------------------------- 4.0/13.0 MB 5.7 MB/s eta 0:00:02\n",
      "     ------------ --------------------------- 4.2/13.0 MB 5.6 MB/s eta 0:00:02\n",
      "     ------------- -------------------------- 4.5/13.0 MB 5.7 MB/s eta 0:00:02\n",
      "     -------------- ------------------------- 4.8/13.0 MB 5.6 MB/s eta 0:00:02\n",
      "     --------------- ------------------------ 5.1/13.0 MB 5.7 MB/s eta 0:00:02\n",
      "     ---------------- ----------------------- 5.3/13.0 MB 5.7 MB/s eta 0:00:02\n",
      "     ----------------- ---------------------- 5.6/13.0 MB 5.7 MB/s eta 0:00:02\n",
      "     ------------------ --------------------- 5.9/13.0 MB 5.7 MB/s eta 0:00:02\n",
      "     ------------------ --------------------- 6.2/13.0 MB 5.7 MB/s eta 0:00:02\n",
      "     ------------------- -------------------- 6.5/13.0 MB 5.7 MB/s eta 0:00:02\n",
      "     -------------------- ------------------- 6.7/13.0 MB 5.8 MB/s eta 0:00:02\n",
      "     --------------------- ------------------ 7.0/13.0 MB 5.8 MB/s eta 0:00:02\n",
      "     ---------------------- ----------------- 7.3/13.0 MB 5.8 MB/s eta 0:00:01\n",
      "     ----------------------- ---------------- 7.6/13.0 MB 5.8 MB/s eta 0:00:01\n",
      "     ------------------------ --------------- 8.0/13.0 MB 5.8 MB/s eta 0:00:01\n",
      "     ------------------------- -------------- 8.3/13.0 MB 5.9 MB/s eta 0:00:01\n",
      "     -------------------------- ------------- 8.6/13.0 MB 5.9 MB/s eta 0:00:01\n",
      "     --------------------------- ------------ 8.9/13.0 MB 5.9 MB/s eta 0:00:01\n",
      "     ---------------------------- ----------- 9.2/13.0 MB 5.9 MB/s eta 0:00:01\n",
      "     ----------------------------- ---------- 9.5/13.0 MB 5.9 MB/s eta 0:00:01\n",
      "     ------------------------------ --------- 9.8/13.0 MB 6.0 MB/s eta 0:00:01\n",
      "     ------------------------------ --------- 10.1/13.0 MB 6.0 MB/s eta 0:00:01\n",
      "     ------------------------------- -------- 10.4/13.0 MB 6.0 MB/s eta 0:00:01\n",
      "     -------------------------------- ------- 10.7/13.0 MB 6.1 MB/s eta 0:00:01\n",
      "     --------------------------------- ------ 11.0/13.0 MB 6.1 MB/s eta 0:00:01\n",
      "     ---------------------------------- ----- 11.2/13.0 MB 6.0 MB/s eta 0:00:01\n",
      "     ----------------------------------- ---- 11.5/13.0 MB 6.0 MB/s eta 0:00:01\n",
      "     ------------------------------------ --- 11.8/13.0 MB 6.1 MB/s eta 0:00:01\n",
      "     ------------------------------------- -- 12.1/13.0 MB 6.1 MB/s eta 0:00:01\n",
      "     ------------------------------------- -- 12.3/13.0 MB 6.1 MB/s eta 0:00:01\n",
      "     -------------------------------------- - 12.6/13.0 MB 6.1 MB/s eta 0:00:01\n",
      "     ---------------------------------------  12.9/13.0 MB 6.1 MB/s eta 0:00:01\n",
      "     ---------------------------------------  13.0/13.0 MB 6.2 MB/s eta 0:00:01\n",
      "     ---------------------------------------- 13.0/13.0 MB 6.0 MB/s eta 0:00:00\n",
      "Requirement already satisfied: spacy<3.8.0,>=3.7.0 in c:\\users\\lepol\\appdata\\local\\programs\\python\\python311\\lib\\site-packages (from it-core-news-sm==3.7.0) (3.7.3)\n",
      "Requirement already satisfied: spacy-legacy<3.1.0,>=3.0.11 in c:\\users\\lepol\\appdata\\local\\programs\\python\\python311\\lib\\site-packages (from spacy<3.8.0,>=3.7.0->it-core-news-sm==3.7.0) (3.0.12)\n",
      "Requirement already satisfied: spacy-loggers<2.0.0,>=1.0.0 in c:\\users\\lepol\\appdata\\local\\programs\\python\\python311\\lib\\site-packages (from spacy<3.8.0,>=3.7.0->it-core-news-sm==3.7.0) (1.0.5)\n",
      "Requirement already satisfied: murmurhash<1.1.0,>=0.28.0 in c:\\users\\lepol\\appdata\\local\\programs\\python\\python311\\lib\\site-packages (from spacy<3.8.0,>=3.7.0->it-core-news-sm==3.7.0) (1.0.10)\n",
      "Requirement already satisfied: cymem<2.1.0,>=2.0.2 in c:\\users\\lepol\\appdata\\local\\programs\\python\\python311\\lib\\site-packages (from spacy<3.8.0,>=3.7.0->it-core-news-sm==3.7.0) (2.0.8)\n",
      "Requirement already satisfied: preshed<3.1.0,>=3.0.2 in c:\\users\\lepol\\appdata\\local\\programs\\python\\python311\\lib\\site-packages (from spacy<3.8.0,>=3.7.0->it-core-news-sm==3.7.0) (3.0.9)\n",
      "Requirement already satisfied: thinc<8.3.0,>=8.2.2 in c:\\users\\lepol\\appdata\\local\\programs\\python\\python311\\lib\\site-packages (from spacy<3.8.0,>=3.7.0->it-core-news-sm==3.7.0) (8.2.2)\n",
      "Requirement already satisfied: wasabi<1.2.0,>=0.9.1 in c:\\users\\lepol\\appdata\\local\\programs\\python\\python311\\lib\\site-packages (from spacy<3.8.0,>=3.7.0->it-core-news-sm==3.7.0) (1.1.2)\n",
      "Requirement already satisfied: srsly<3.0.0,>=2.4.3 in c:\\users\\lepol\\appdata\\local\\programs\\python\\python311\\lib\\site-packages (from spacy<3.8.0,>=3.7.0->it-core-news-sm==3.7.0) (2.4.8)\n",
      "Requirement already satisfied: catalogue<2.1.0,>=2.0.6 in c:\\users\\lepol\\appdata\\local\\programs\\python\\python311\\lib\\site-packages (from spacy<3.8.0,>=3.7.0->it-core-news-sm==3.7.0) (2.0.10)\n",
      "Requirement already satisfied: weasel<0.4.0,>=0.1.0 in c:\\users\\lepol\\appdata\\local\\programs\\python\\python311\\lib\\site-packages (from spacy<3.8.0,>=3.7.0->it-core-news-sm==3.7.0) (0.3.4)\n",
      "Requirement already satisfied: typer<0.10.0,>=0.3.0 in c:\\users\\lepol\\appdata\\local\\programs\\python\\python311\\lib\\site-packages (from spacy<3.8.0,>=3.7.0->it-core-news-sm==3.7.0) (0.9.0)\n",
      "Requirement already satisfied: smart-open<7.0.0,>=5.2.1 in c:\\users\\lepol\\appdata\\local\\programs\\python\\python311\\lib\\site-packages (from spacy<3.8.0,>=3.7.0->it-core-news-sm==3.7.0) (6.4.0)\n",
      "Requirement already satisfied: tqdm<5.0.0,>=4.38.0 in c:\\users\\lepol\\appdata\\local\\programs\\python\\python311\\lib\\site-packages (from spacy<3.8.0,>=3.7.0->it-core-news-sm==3.7.0) (4.64.1)\n",
      "Requirement already satisfied: requests<3.0.0,>=2.13.0 in c:\\users\\lepol\\appdata\\local\\programs\\python\\python311\\lib\\site-packages (from spacy<3.8.0,>=3.7.0->it-core-news-sm==3.7.0) (2.31.0)\n",
      "Requirement already satisfied: pydantic!=1.8,!=1.8.1,<3.0.0,>=1.7.4 in c:\\users\\lepol\\appdata\\local\\programs\\python\\python311\\lib\\site-packages (from spacy<3.8.0,>=3.7.0->it-core-news-sm==3.7.0) (2.6.1)\n",
      "Requirement already satisfied: jinja2 in c:\\users\\lepol\\appdata\\local\\programs\\python\\python311\\lib\\site-packages (from spacy<3.8.0,>=3.7.0->it-core-news-sm==3.7.0) (3.1.2)\n",
      "Requirement already satisfied: setuptools in c:\\users\\lepol\\appdata\\local\\programs\\python\\python311\\lib\\site-packages (from spacy<3.8.0,>=3.7.0->it-core-news-sm==3.7.0) (65.5.0)\n",
      "Requirement already satisfied: packaging>=20.0 in c:\\users\\lepol\\appdata\\local\\programs\\python\\python311\\lib\\site-packages (from spacy<3.8.0,>=3.7.0->it-core-news-sm==3.7.0) (23.0)\n",
      "Requirement already satisfied: langcodes<4.0.0,>=3.2.0 in c:\\users\\lepol\\appdata\\local\\programs\\python\\python311\\lib\\site-packages (from spacy<3.8.0,>=3.7.0->it-core-news-sm==3.7.0) (3.3.0)\n",
      "Requirement already satisfied: numpy>=1.19.0 in c:\\users\\lepol\\appdata\\local\\programs\\python\\python311\\lib\\site-packages (from spacy<3.8.0,>=3.7.0->it-core-news-sm==3.7.0) (1.24.3)\n",
      "Requirement already satisfied: annotated-types>=0.4.0 in c:\\users\\lepol\\appdata\\local\\programs\\python\\python311\\lib\\site-packages (from pydantic!=1.8,!=1.8.1,<3.0.0,>=1.7.4->spacy<3.8.0,>=3.7.0->it-core-news-sm==3.7.0) (0.6.0)\n",
      "Requirement already satisfied: pydantic-core==2.16.2 in c:\\users\\lepol\\appdata\\local\\programs\\python\\python311\\lib\\site-packages (from pydantic!=1.8,!=1.8.1,<3.0.0,>=1.7.4->spacy<3.8.0,>=3.7.0->it-core-news-sm==3.7.0) (2.16.2)\n",
      "Requirement already satisfied: typing-extensions>=4.6.1 in c:\\users\\lepol\\appdata\\local\\programs\\python\\python311\\lib\\site-packages (from pydantic!=1.8,!=1.8.1,<3.0.0,>=1.7.4->spacy<3.8.0,>=3.7.0->it-core-news-sm==3.7.0) (4.10.0)\n",
      "Requirement already satisfied: charset-normalizer<4,>=2 in c:\\users\\lepol\\appdata\\local\\programs\\python\\python311\\lib\\site-packages (from requests<3.0.0,>=2.13.0->spacy<3.8.0,>=3.7.0->it-core-news-sm==3.7.0) (2.1.1)\n",
      "Requirement already satisfied: idna<4,>=2.5 in c:\\users\\lepol\\appdata\\local\\programs\\python\\python311\\lib\\site-packages (from requests<3.0.0,>=2.13.0->spacy<3.8.0,>=3.7.0->it-core-news-sm==3.7.0) (3.4)\n",
      "Requirement already satisfied: urllib3<3,>=1.21.1 in c:\\users\\lepol\\appdata\\local\\programs\\python\\python311\\lib\\site-packages (from requests<3.0.0,>=2.13.0->spacy<3.8.0,>=3.7.0->it-core-news-sm==3.7.0) (1.26.12)\n",
      "Requirement already satisfied: certifi>=2017.4.17 in c:\\users\\lepol\\appdata\\local\\programs\\python\\python311\\lib\\site-packages (from requests<3.0.0,>=2.13.0->spacy<3.8.0,>=3.7.0->it-core-news-sm==3.7.0) (2022.9.24)\n",
      "Requirement already satisfied: blis<0.8.0,>=0.7.8 in c:\\users\\lepol\\appdata\\local\\programs\\python\\python311\\lib\\site-packages (from thinc<8.3.0,>=8.2.2->spacy<3.8.0,>=3.7.0->it-core-news-sm==3.7.0) (0.7.11)\n",
      "Requirement already satisfied: confection<1.0.0,>=0.0.1 in c:\\users\\lepol\\appdata\\local\\programs\\python\\python311\\lib\\site-packages (from thinc<8.3.0,>=8.2.2->spacy<3.8.0,>=3.7.0->it-core-news-sm==3.7.0) (0.1.4)\n",
      "Requirement already satisfied: colorama in c:\\users\\lepol\\appdata\\local\\programs\\python\\python311\\lib\\site-packages (from tqdm<5.0.0,>=4.38.0->spacy<3.8.0,>=3.7.0->it-core-news-sm==3.7.0) (0.4.6)\n",
      "Requirement already satisfied: click<9.0.0,>=7.1.1 in c:\\users\\lepol\\appdata\\local\\programs\\python\\python311\\lib\\site-packages (from typer<0.10.0,>=0.3.0->spacy<3.8.0,>=3.7.0->it-core-news-sm==3.7.0) (8.1.3)\n",
      "Requirement already satisfied: cloudpathlib<0.17.0,>=0.7.0 in c:\\users\\lepol\\appdata\\local\\programs\\python\\python311\\lib\\site-packages (from weasel<0.4.0,>=0.1.0->spacy<3.8.0,>=3.7.0->it-core-news-sm==3.7.0) (0.16.0)\n",
      "Requirement already satisfied: MarkupSafe>=2.0 in c:\\users\\lepol\\appdata\\local\\programs\\python\\python311\\lib\\site-packages (from jinja2->spacy<3.8.0,>=3.7.0->it-core-news-sm==3.7.0) (2.1.2)\n",
      "\u001b[38;5;2m✔ Download and installation successful\u001b[0m\n",
      "You can now load the package via spacy.load('it_core_news_sm')\n"
     ]
    }
   ],
   "source": [
    "!python -m spacy download it_core_news_sm"
   ]
  },
  {
   "cell_type": "markdown",
   "metadata": {},
   "source": [
    "## Reading and Cleaning Data"
   ]
  },
  {
   "cell_type": "markdown",
   "metadata": {},
   "source": [
    "### Read Df"
   ]
  },
  {
   "cell_type": "markdown",
   "metadata": {},
   "source": [
    "This data frame comes from extensive and hard scraping on Nitter, one of the last available resources to scrape Twitter without rate limits and high expenses. However, because of the instability of the various instances, we are not sure the results will be easily replicated if trying to run again the twitter.ipynb script. "
   ]
  },
  {
   "cell_type": "code",
   "execution_count": 2,
   "metadata": {},
   "outputs": [],
   "source": [
    "# read the data\n",
    "df = pd.read_csv('twitter_data_ext.csv')"
   ]
  },
  {
   "cell_type": "code",
   "execution_count": 3,
   "metadata": {},
   "outputs": [
    {
     "data": {
      "text/html": [
       "<div>\n",
       "<style scoped>\n",
       "    .dataframe tbody tr th:only-of-type {\n",
       "        vertical-align: middle;\n",
       "    }\n",
       "\n",
       "    .dataframe tbody tr th {\n",
       "        vertical-align: top;\n",
       "    }\n",
       "\n",
       "    .dataframe thead th {\n",
       "        text-align: right;\n",
       "    }\n",
       "</style>\n",
       "<table border=\"1\" class=\"dataframe\">\n",
       "  <thead>\n",
       "    <tr style=\"text-align: right;\">\n",
       "      <th></th>\n",
       "      <th>user</th>\n",
       "      <th>username</th>\n",
       "      <th>date</th>\n",
       "      <th>text</th>\n",
       "      <th>comments</th>\n",
       "      <th>retweets</th>\n",
       "      <th>quotes</th>\n",
       "      <th>likes</th>\n",
       "    </tr>\n",
       "  </thead>\n",
       "  <tbody>\n",
       "    <tr>\n",
       "      <th>0</th>\n",
       "      <td>Sciking</td>\n",
       "      <td>@ScikingFS</td>\n",
       "      <td>Apr 19</td>\n",
       "      <td>Se solo le donne possono parlare di aborto, so...</td>\n",
       "      <td>0</td>\n",
       "      <td>0</td>\n",
       "      <td>0</td>\n",
       "      <td>0</td>\n",
       "    </tr>\n",
       "    <tr>\n",
       "      <th>1</th>\n",
       "      <td>💲ℹ️〽️⭕.🇪🇺🇺🇦 #Il Silenzio é Sottovalutato❣️©🤫</td>\n",
       "      <td>@Simo42953017</td>\n",
       "      <td>Apr 19</td>\n",
       "      <td>#femminicidio #femminicidi</td>\n",
       "      <td>0</td>\n",
       "      <td>0</td>\n",
       "      <td>0</td>\n",
       "      <td>0</td>\n",
       "    </tr>\n",
       "    <tr>\n",
       "      <th>2</th>\n",
       "      <td>pubblicanow.it</td>\n",
       "      <td>@pubblicanow</td>\n",
       "      <td>Apr 19</td>\n",
       "      <td>Paesi Baschi: aiuto annuale per gli orfani di ...</td>\n",
       "      <td>0</td>\n",
       "      <td>0</td>\n",
       "      <td>0</td>\n",
       "      <td>0</td>\n",
       "    </tr>\n",
       "    <tr>\n",
       "      <th>3</th>\n",
       "      <td>Italy in Austria</td>\n",
       "      <td>@ItalyinAustria</td>\n",
       "      <td>Apr 19</td>\n",
       "      <td>L'Ambasciata d'Italia a Vienna aderisce alla c...</td>\n",
       "      <td>0</td>\n",
       "      <td>0</td>\n",
       "      <td>0</td>\n",
       "      <td>0</td>\n",
       "    </tr>\n",
       "    <tr>\n",
       "      <th>4</th>\n",
       "      <td>𝙈𝙖𝙧𝙠 𝙋. 𝙇𝙚 𝙃𝙖𝙫𝙧𝙚</td>\n",
       "      <td>@marklehavre</td>\n",
       "      <td>Apr 19</td>\n",
       "      <td>Bhe speriamo che non sia per qualche femminici...</td>\n",
       "      <td>0</td>\n",
       "      <td>0</td>\n",
       "      <td>0</td>\n",
       "      <td>1</td>\n",
       "    </tr>\n",
       "  </tbody>\n",
       "</table>\n",
       "</div>"
      ],
      "text/plain": [
       "                                           user         username    date  \\\n",
       "0                                       Sciking       @ScikingFS  Apr 19   \n",
       "1  💲ℹ️〽️⭕.🇪🇺🇺🇦 #Il Silenzio é Sottovalutato❣️©🤫    @Simo42953017  Apr 19   \n",
       "2                                pubblicanow.it     @pubblicanow  Apr 19   \n",
       "3                              Italy in Austria  @ItalyinAustria  Apr 19   \n",
       "4                              𝙈𝙖𝙧𝙠 𝙋. 𝙇𝙚 𝙃𝙖𝙫𝙧𝙚     @marklehavre  Apr 19   \n",
       "\n",
       "                                                text  comments retweets  \\\n",
       "0  Se solo le donne possono parlare di aborto, so...         0        0   \n",
       "1                         #femminicidio #femminicidi         0        0   \n",
       "2  Paesi Baschi: aiuto annuale per gli orfani di ...         0        0   \n",
       "3  L'Ambasciata d'Italia a Vienna aderisce alla c...         0        0   \n",
       "4  Bhe speriamo che non sia per qualche femminici...         0        0   \n",
       "\n",
       "   quotes likes  \n",
       "0       0     0  \n",
       "1       0     0  \n",
       "2       0     0  \n",
       "3       0     0  \n",
       "4       0     1  "
      ]
     },
     "execution_count": 3,
     "metadata": {},
     "output_type": "execute_result"
    }
   ],
   "source": [
    "# drop the first column\n",
    "# df.drop(columns=['Unnamed: 0'], inplace=True)\n",
    "df.head()"
   ]
  },
  {
   "cell_type": "code",
   "execution_count": 6,
   "metadata": {},
   "outputs": [
    {
     "name": "stdout",
     "output_type": "stream",
     "text": [
      "<class 'pandas.core.frame.DataFrame'>\n",
      "RangeIndex: 40921 entries, 0 to 40920\n",
      "Data columns (total 8 columns):\n",
      " #   Column    Non-Null Count  Dtype \n",
      "---  ------    --------------  ----- \n",
      " 0   user      40921 non-null  object\n",
      " 1   username  40921 non-null  object\n",
      " 2   date      40921 non-null  object\n",
      " 3   text      40921 non-null  object\n",
      " 4   comments  40921 non-null  int64 \n",
      " 5   retweets  40921 non-null  object\n",
      " 6   quotes    40921 non-null  int64 \n",
      " 7   likes     40921 non-null  object\n",
      "dtypes: int64(2), object(6)\n",
      "memory usage: 2.5+ MB\n"
     ]
    }
   ],
   "source": [
    "# check the data types\n",
    "df.info()"
   ]
  },
  {
   "cell_type": "markdown",
   "metadata": {},
   "source": [
    "The dates of 2024 have been saved with just day and month, therefore we need to add the year"
   ]
  },
  {
   "cell_type": "code",
   "execution_count": 4,
   "metadata": {},
   "outputs": [],
   "source": [
    "# add the year to all the dates of 2024\n",
    "df['date'] = df['date'].apply(lambda x: x + ' 2024' if len(x) < 10 else x)"
   ]
  },
  {
   "cell_type": "code",
   "execution_count": 5,
   "metadata": {},
   "outputs": [],
   "source": [
    "# convert the date to datetime\n",
    "df['date'] = pd.to_datetime(df['date'])"
   ]
  },
  {
   "cell_type": "code",
   "execution_count": 7,
   "metadata": {},
   "outputs": [],
   "source": [
    "# clean the text column\n",
    "df['text'] = df['text'].apply(lambda x: str(x).replace('\\n', ' '))"
   ]
  },
  {
   "cell_type": "code",
   "execution_count": 8,
   "metadata": {},
   "outputs": [
    {
     "data": {
      "text/html": [
       "<div>\n",
       "<style scoped>\n",
       "    .dataframe tbody tr th:only-of-type {\n",
       "        vertical-align: middle;\n",
       "    }\n",
       "\n",
       "    .dataframe tbody tr th {\n",
       "        vertical-align: top;\n",
       "    }\n",
       "\n",
       "    .dataframe thead th {\n",
       "        text-align: right;\n",
       "    }\n",
       "</style>\n",
       "<table border=\"1\" class=\"dataframe\">\n",
       "  <thead>\n",
       "    <tr style=\"text-align: right;\">\n",
       "      <th></th>\n",
       "      <th>user</th>\n",
       "      <th>username</th>\n",
       "      <th>date</th>\n",
       "      <th>text</th>\n",
       "      <th>comments</th>\n",
       "      <th>retweets</th>\n",
       "      <th>quotes</th>\n",
       "      <th>likes</th>\n",
       "    </tr>\n",
       "  </thead>\n",
       "  <tbody>\n",
       "    <tr>\n",
       "      <th>0</th>\n",
       "      <td>Sciking</td>\n",
       "      <td>@ScikingFS</td>\n",
       "      <td>2024-04-19</td>\n",
       "      <td>Se solo le donne possono parlare di aborto, so...</td>\n",
       "      <td>0</td>\n",
       "      <td>0</td>\n",
       "      <td>0</td>\n",
       "      <td>0</td>\n",
       "    </tr>\n",
       "    <tr>\n",
       "      <th>1</th>\n",
       "      <td>💲ℹ️〽️⭕.🇪🇺🇺🇦 #Il Silenzio é Sottovalutato❣️©🤫</td>\n",
       "      <td>@Simo42953017</td>\n",
       "      <td>2024-04-19</td>\n",
       "      <td>#femminicidio #femminicidi</td>\n",
       "      <td>0</td>\n",
       "      <td>0</td>\n",
       "      <td>0</td>\n",
       "      <td>0</td>\n",
       "    </tr>\n",
       "    <tr>\n",
       "      <th>2</th>\n",
       "      <td>pubblicanow.it</td>\n",
       "      <td>@pubblicanow</td>\n",
       "      <td>2024-04-19</td>\n",
       "      <td>Paesi Baschi: aiuto annuale per gli orfani di ...</td>\n",
       "      <td>0</td>\n",
       "      <td>0</td>\n",
       "      <td>0</td>\n",
       "      <td>0</td>\n",
       "    </tr>\n",
       "    <tr>\n",
       "      <th>3</th>\n",
       "      <td>Italy in Austria</td>\n",
       "      <td>@ItalyinAustria</td>\n",
       "      <td>2024-04-19</td>\n",
       "      <td>L'Ambasciata d'Italia a Vienna aderisce alla c...</td>\n",
       "      <td>0</td>\n",
       "      <td>0</td>\n",
       "      <td>0</td>\n",
       "      <td>0</td>\n",
       "    </tr>\n",
       "    <tr>\n",
       "      <th>4</th>\n",
       "      <td>𝙈𝙖𝙧𝙠 𝙋. 𝙇𝙚 𝙃𝙖𝙫𝙧𝙚</td>\n",
       "      <td>@marklehavre</td>\n",
       "      <td>2024-04-19</td>\n",
       "      <td>Bhe speriamo che non sia per qualche femminici...</td>\n",
       "      <td>0</td>\n",
       "      <td>0</td>\n",
       "      <td>0</td>\n",
       "      <td>1</td>\n",
       "    </tr>\n",
       "  </tbody>\n",
       "</table>\n",
       "</div>"
      ],
      "text/plain": [
       "                                           user         username       date  \\\n",
       "0                                       Sciking       @ScikingFS 2024-04-19   \n",
       "1  💲ℹ️〽️⭕.🇪🇺🇺🇦 #Il Silenzio é Sottovalutato❣️©🤫    @Simo42953017 2024-04-19   \n",
       "2                                pubblicanow.it     @pubblicanow 2024-04-19   \n",
       "3                              Italy in Austria  @ItalyinAustria 2024-04-19   \n",
       "4                              𝙈𝙖𝙧𝙠 𝙋. 𝙇𝙚 𝙃𝙖𝙫𝙧𝙚     @marklehavre 2024-04-19   \n",
       "\n",
       "                                                text  comments retweets  \\\n",
       "0  Se solo le donne possono parlare di aborto, so...         0        0   \n",
       "1                         #femminicidio #femminicidi         0        0   \n",
       "2  Paesi Baschi: aiuto annuale per gli orfani di ...         0        0   \n",
       "3  L'Ambasciata d'Italia a Vienna aderisce alla c...         0        0   \n",
       "4  Bhe speriamo che non sia per qualche femminici...         0        0   \n",
       "\n",
       "   quotes likes  \n",
       "0       0     0  \n",
       "1       0     0  \n",
       "2       0     0  \n",
       "3       0     0  \n",
       "4       0     1  "
      ]
     },
     "execution_count": 8,
     "metadata": {},
     "output_type": "execute_result"
    }
   ],
   "source": [
    "# first five rows\n",
    "df.head()"
   ]
  },
  {
   "cell_type": "markdown",
   "metadata": {},
   "source": [
    "This is the cleaned final data frame!"
   ]
  },
  {
   "cell_type": "markdown",
   "metadata": {},
   "source": [
    "## Exploratory Data Analysis"
   ]
  },
  {
   "cell_type": "markdown",
   "metadata": {},
   "source": [
    "### Polarization event"
   ]
  },
  {
   "cell_type": "markdown",
   "metadata": {},
   "source": [
    "We chose as a polarization event the \"Cecchettin case\", that greatly moved public opinion regarding the hot topic of violence on women in italy."
   ]
  },
  {
   "cell_type": "code",
   "execution_count": 9,
   "metadata": {},
   "outputs": [],
   "source": [
    "# create a variable for the polarizing event\n",
    "pol_event = dt.datetime(2023, 11, 11)"
   ]
  },
  {
   "cell_type": "markdown",
   "metadata": {},
   "source": [
    "### Simple Tweet Count"
   ]
  },
  {
   "cell_type": "code",
   "execution_count": 10,
   "metadata": {},
   "outputs": [
    {
     "data": {
      "text/html": [
       "<div>\n",
       "<style scoped>\n",
       "    .dataframe tbody tr th:only-of-type {\n",
       "        vertical-align: middle;\n",
       "    }\n",
       "\n",
       "    .dataframe tbody tr th {\n",
       "        vertical-align: top;\n",
       "    }\n",
       "\n",
       "    .dataframe thead th {\n",
       "        text-align: right;\n",
       "    }\n",
       "</style>\n",
       "<table border=\"1\" class=\"dataframe\">\n",
       "  <thead>\n",
       "    <tr style=\"text-align: right;\">\n",
       "      <th></th>\n",
       "      <th>user</th>\n",
       "      <th>username</th>\n",
       "      <th>text</th>\n",
       "      <th>comments</th>\n",
       "      <th>retweets</th>\n",
       "      <th>quotes</th>\n",
       "      <th>likes</th>\n",
       "    </tr>\n",
       "    <tr>\n",
       "      <th>date</th>\n",
       "      <th></th>\n",
       "      <th></th>\n",
       "      <th></th>\n",
       "      <th></th>\n",
       "      <th></th>\n",
       "      <th></th>\n",
       "      <th></th>\n",
       "    </tr>\n",
       "  </thead>\n",
       "  <tbody>\n",
       "    <tr>\n",
       "      <th>2022-02-16</th>\n",
       "      <td>15</td>\n",
       "      <td>15</td>\n",
       "      <td>15</td>\n",
       "      <td>15</td>\n",
       "      <td>15</td>\n",
       "      <td>15</td>\n",
       "      <td>15</td>\n",
       "    </tr>\n",
       "    <tr>\n",
       "      <th>2022-02-17</th>\n",
       "      <td>24</td>\n",
       "      <td>24</td>\n",
       "      <td>24</td>\n",
       "      <td>24</td>\n",
       "      <td>24</td>\n",
       "      <td>24</td>\n",
       "      <td>24</td>\n",
       "    </tr>\n",
       "    <tr>\n",
       "      <th>2022-02-18</th>\n",
       "      <td>19</td>\n",
       "      <td>19</td>\n",
       "      <td>19</td>\n",
       "      <td>19</td>\n",
       "      <td>19</td>\n",
       "      <td>19</td>\n",
       "      <td>19</td>\n",
       "    </tr>\n",
       "    <tr>\n",
       "      <th>2022-02-19</th>\n",
       "      <td>11</td>\n",
       "      <td>11</td>\n",
       "      <td>11</td>\n",
       "      <td>11</td>\n",
       "      <td>11</td>\n",
       "      <td>11</td>\n",
       "      <td>11</td>\n",
       "    </tr>\n",
       "    <tr>\n",
       "      <th>2022-02-20</th>\n",
       "      <td>4</td>\n",
       "      <td>4</td>\n",
       "      <td>4</td>\n",
       "      <td>4</td>\n",
       "      <td>4</td>\n",
       "      <td>4</td>\n",
       "      <td>4</td>\n",
       "    </tr>\n",
       "  </tbody>\n",
       "</table>\n",
       "</div>"
      ],
      "text/plain": [
       "            user  username  text  comments  retweets  quotes  likes\n",
       "date                                                               \n",
       "2022-02-16    15        15    15        15        15      15     15\n",
       "2022-02-17    24        24    24        24        24      24     24\n",
       "2022-02-18    19        19    19        19        19      19     19\n",
       "2022-02-19    11        11    11        11        11      11     11\n",
       "2022-02-20     4         4     4         4         4       4      4"
      ]
     },
     "execution_count": 10,
     "metadata": {},
     "output_type": "execute_result"
    }
   ],
   "source": [
    "# group the data by date\n",
    "count_by_date = df.groupby('date').count()\n",
    "count_by_date.head()"
   ]
  },
  {
   "cell_type": "code",
   "execution_count": 15,
   "metadata": {},
   "outputs": [
    {
     "data": {
      "image/png": "[encoded data removed]",
      "text/plain": [
       "<Figure size 1500x700 with 1 Axes>"
      ]
     },
     "metadata": {},
     "output_type": "display_data"
    }
   ],
   "source": [
    "# plot the number of tweets by date\n",
    "fig, ax = plt.subplots(figsize=(15, 7))\n",
    "ax.plot(count_by_date.index, count_by_date['text'], label='Number of Tweets', color='blue')\n",
    "ax.axvline(pol_event, color='red', linestyle='--', label='Cecchettin')\n",
    "ax.set_title('Number of Tweets by Date')\n",
    "ax.set_xlabel('Date')\n",
    "ax.set_ylabel('Number of Tweets containing the word \"Femicide\"')\n",
    "ax.legend()\n",
    "\n",
    "plt.show()"
   ]
  },
  {
   "cell_type": "markdown",
   "metadata": {},
   "source": [
    "### Number of Different Users"
   ]
  },
  {
   "cell_type": "code",
   "execution_count": 11,
   "metadata": {},
   "outputs": [
    {
     "name": "stdout",
     "output_type": "stream",
     "text": [
      "There are 23743 different users in the dataset (that contains 62624 tweets)\n"
     ]
    }
   ],
   "source": [
    "# count the number of different users\n",
    "n_different_users = df['user'].nunique()\n",
    "print(f'There are {n_different_users} different users in the dataset (that contains {len(df)} tweets)')"
   ]
  },
  {
   "cell_type": "markdown",
   "metadata": {},
   "source": [
    "There are 17773 different users in the dataset (that contains 40921 tweets)"
   ]
  },
  {
   "cell_type": "code",
   "execution_count": 12,
   "metadata": {},
   "outputs": [
    {
     "data": {
      "text/plain": [
       "array(['Sciking', '💲ℹ️〽️⭕.🇪🇺🇺🇦 #Il Silenzio é Sottovalutato❣️©🤫',\n",
       "       'pubblicanow.it', ...,\n",
       "       '.•.°• 🦦|| young royals & liceali gay era °.•', 'Lucia Guarano',\n",
       "       'Laura Garavini'], dtype=object)"
      ]
     },
     "execution_count": 12,
     "metadata": {},
     "output_type": "execute_result"
    }
   ],
   "source": [
    "# list of all different users\n",
    "different_users = df['user'].unique()\n",
    "different_users"
   ]
  },
  {
   "cell_type": "code",
   "execution_count": 21,
   "metadata": {},
   "outputs": [
    {
     "data": {
      "text/html": [
       "<div>\n",
       "<style scoped>\n",
       "    .dataframe tbody tr th:only-of-type {\n",
       "        vertical-align: middle;\n",
       "    }\n",
       "\n",
       "    .dataframe tbody tr th {\n",
       "        vertical-align: top;\n",
       "    }\n",
       "\n",
       "    .dataframe thead th {\n",
       "        text-align: right;\n",
       "    }\n",
       "</style>\n",
       "<table border=\"1\" class=\"dataframe\">\n",
       "  <thead>\n",
       "    <tr style=\"text-align: right;\">\n",
       "      <th></th>\n",
       "      <th>user</th>\n",
       "      <th>username</th>\n",
       "      <th>date</th>\n",
       "      <th>text</th>\n",
       "      <th>comments</th>\n",
       "      <th>retweets</th>\n",
       "      <th>quotes</th>\n",
       "      <th>likes</th>\n",
       "      <th>hashtags</th>\n",
       "    </tr>\n",
       "  </thead>\n",
       "  <tbody>\n",
       "    <tr>\n",
       "      <th>0</th>\n",
       "      <td>raffaele52</td>\n",
       "      <td>@raffaele521</td>\n",
       "      <td>[2023-11-21 00:00:00]</td>\n",
       "      <td>[La sua conoscenza del femminicidio è straordi...</td>\n",
       "      <td>[0]</td>\n",
       "      <td>[0]</td>\n",
       "      <td>[0]</td>\n",
       "      <td>[0]</td>\n",
       "      <td>[nan]</td>\n",
       "    </tr>\n",
       "    <tr>\n",
       "      <th>1</th>\n",
       "      <td>Shana Loricco</td>\n",
       "      <td>@shanaloricco201</td>\n",
       "      <td>[2023-12-05 00:00:00]</td>\n",
       "      <td>[Parole forti, chiare. Giuste. #LorenzoGasparr...</td>\n",
       "      <td>[0]</td>\n",
       "      <td>[0]</td>\n",
       "      <td>[0]</td>\n",
       "      <td>[0]</td>\n",
       "      <td>[[#LorenzoGasparrini, #willita, #femminicidio,...</td>\n",
       "    </tr>\n",
       "    <tr>\n",
       "      <th>2</th>\n",
       "      <td>\"Lehodettocresci\" E io sono cresciuta🌈🌻</td>\n",
       "      <td>@nagioia08</td>\n",
       "      <td>[2023-10-04 00:00:00, 2023-06-01 00:00:00, 202...</td>\n",
       "      <td>[D'altronde Pi3rsilvio ha cacciato la d'urso p...</td>\n",
       "      <td>[0, 0, 2, 0]</td>\n",
       "      <td>[0, 0, 0, 0]</td>\n",
       "      <td>[0, 0, 0, 0]</td>\n",
       "      <td>[ 8, 0, 0,  3]</td>\n",
       "      <td>[nan, nan, nan, nan]</td>\n",
       "    </tr>\n",
       "    <tr>\n",
       "      <th>3</th>\n",
       "      <td>\"seneca&amp;pericle\"</td>\n",
       "      <td>@senecaepericle</td>\n",
       "      <td>[2023-01-24 00:00:00]</td>\n",
       "      <td>[Non parliamo poi del femminicidio...]</td>\n",
       "      <td>[0]</td>\n",
       "      <td>[0]</td>\n",
       "      <td>[0]</td>\n",
       "      <td>[0]</td>\n",
       "      <td>[nan]</td>\n",
       "    </tr>\n",
       "    <tr>\n",
       "      <th>4</th>\n",
       "      <td># claudia ✧ 🔭</td>\n",
       "      <td>@308bangtan</td>\n",
       "      <td>[2023-08-01 00:00:00]</td>\n",
       "      <td>[in realtà penalmente parlando non è uguale, u...</td>\n",
       "      <td>[0]</td>\n",
       "      <td>[0]</td>\n",
       "      <td>[0]</td>\n",
       "      <td>[0]</td>\n",
       "      <td>[nan]</td>\n",
       "    </tr>\n",
       "  </tbody>\n",
       "</table>\n",
       "</div>"
      ],
      "text/plain": [
       "                                      user          username  \\\n",
       "0                               raffaele52      @raffaele521   \n",
       "1                           Shana Loricco   @shanaloricco201   \n",
       "2  \"Lehodettocresci\" E io sono cresciuta🌈🌻        @nagioia08   \n",
       "3                         \"seneca&pericle\"   @senecaepericle   \n",
       "4                            # claudia ✧ 🔭       @308bangtan   \n",
       "\n",
       "                                                date  \\\n",
       "0                              [2023-11-21 00:00:00]   \n",
       "1                              [2023-12-05 00:00:00]   \n",
       "2  [2023-10-04 00:00:00, 2023-06-01 00:00:00, 202...   \n",
       "3                              [2023-01-24 00:00:00]   \n",
       "4                              [2023-08-01 00:00:00]   \n",
       "\n",
       "                                                text      comments  \\\n",
       "0  [La sua conoscenza del femminicidio è straordi...           [0]   \n",
       "1  [Parole forti, chiare. Giuste. #LorenzoGasparr...           [0]   \n",
       "2  [D'altronde Pi3rsilvio ha cacciato la d'urso p...  [0, 0, 2, 0]   \n",
       "3             [Non parliamo poi del femminicidio...]           [0]   \n",
       "4  [in realtà penalmente parlando non è uguale, u...           [0]   \n",
       "\n",
       "       retweets        quotes           likes  \\\n",
       "0           [0]           [0]             [0]   \n",
       "1           [0]           [0]             [0]   \n",
       "2  [0, 0, 0, 0]  [0, 0, 0, 0]  [ 8, 0, 0,  3]   \n",
       "3           [0]           [0]             [0]   \n",
       "4           [0]           [0]             [0]   \n",
       "\n",
       "                                            hashtags  \n",
       "0                                              [nan]  \n",
       "1  [[#LorenzoGasparrini, #willita, #femminicidio,...  \n",
       "2                               [nan, nan, nan, nan]  \n",
       "3                                              [nan]  \n",
       "4                                              [nan]  "
      ]
     },
     "execution_count": 21,
     "metadata": {},
     "output_type": "execute_result"
    }
   ],
   "source": [
    "users_df = df.groupby('user').agg(list).reset_index()\n",
    "users_df['username'] = users_df['username'].apply(lambda x: x[0])\n",
    "users_df.head()"
   ]
  },
  {
   "cell_type": "code",
   "execution_count": 22,
   "metadata": {},
   "outputs": [],
   "source": [
    "users_df['n_tweets'] = users_df['text'].apply(lambda x: len(x))"
   ]
  },
  {
   "cell_type": "markdown",
   "metadata": {},
   "source": [
    "### Number of Tweets per User"
   ]
  },
  {
   "cell_type": "code",
   "execution_count": 27,
   "metadata": {},
   "outputs": [
    {
     "data": {
      "image/png": "[encoded data removed]",
      "text/plain": [
       "<Figure size 1500x700 with 1 Axes>"
      ]
     },
     "metadata": {},
     "output_type": "display_data"
    }
   ],
   "source": [
    "fig, ax = plt.subplots(figsize=(15, 7))\n",
    "users_df['n_tweets'].value_counts().sort_index().plot(kind='bar', ax=ax)\n",
    "ax.set_title('Number of Tweets per User')\n",
    "ax.set_xlabel('Number of Tweets')\n",
    "ax.set_ylabel('Number of Users')\n",
    "# ax.set_xlim(-1, 23)\n",
    "\n",
    "plt.show()"
   ]
  },
  {
   "cell_type": "code",
   "execution_count": 35,
   "metadata": {},
   "outputs": [],
   "source": [
    "with open('users.csv', 'w') as f:\n",
    "    users = users_df.sort_values('n_tweets', ascending=False)['username'].values\n",
    "    for user in users:\n",
    "        f.write(user + ',' + '\\n')"
   ]
  },
  {
   "cell_type": "markdown",
   "metadata": {},
   "source": [
    "### Label Institutions"
   ]
  },
  {
   "cell_type": "code",
   "execution_count": 36,
   "metadata": {},
   "outputs": [],
   "source": [
    "usernames = [\n",
    "    \"@repubblica\", \"@LaStampa\", \"@Corriere\", \"@ilmessaggeroit\", \"@ilgiornale\", \"@fattoquotidiano\",\n",
    "    \"@TV2000it\", \"@SkyTG24\", \"@Tg3web\", \"@MediasetTgcom24\", \"@tg2rai\", \"@TgLa7\",\n",
    "    \"@Radio1Rai\", \"@rtl1025\", \"@RaiNews\", \"@RadioVoceVicina\", \"@RADIOBRUNO1\", \"@RadioCapital_fm\",\n",
    "    \"@fanpage\", \"@globalistIT\", \"@Agenzia_Ansa\", \"@LaPresse_news\", \"@direpuntoit\", \"@Adnkronos\",\n",
    "    \"@VanityFairIt\", \"@361_magazine\", \"@InsertoMagazine\",\n",
    "    \"@giallolorca\", \"@genderedform\", \"@GQ_Italia\", \"@Internazionale\",\n",
    "    \"@fisco24_info\", \"@bizcommunityit\", \"@magzinemag\",\n",
    "    \"@Noviolenzadonne\", \"@NonunadimenoF\", \"@amnestyitalia\",\n",
    "    \"@bizcommunityit\", \"@AgenPolitica\", \"@Femminicidio\",\n",
    "    \"@Movimento5Stelle\", \"@leganord\", \"@ForzaItalia\", \"@DemocraziaAtea\"\n",
    "]\n",
    "\n",
    "# usernames_2 = "
   ]
  },
  {
   "cell_type": "code",
   "execution_count": 81,
   "metadata": {},
   "outputs": [],
   "source": [
    "def is_in_list(x, lis):\n",
    "    if x in lis:\n",
    "        return 1\n",
    "    else:\n",
    "        return 0"
   ]
  },
  {
   "cell_type": "code",
   "execution_count": 85,
   "metadata": {},
   "outputs": [],
   "source": [
    "df['is_institution'] = df['username'].apply(lambda x: is_in_list(x, usernames))"
   ]
  },
  {
   "cell_type": "code",
   "execution_count": 86,
   "metadata": {},
   "outputs": [
    {
     "data": {
      "text/plain": [
       "<AxesSubplot: >"
      ]
     },
     "execution_count": 86,
     "metadata": {},
     "output_type": "execute_result"
    },
    {
     "data": {
      "image/png": "[encoded data removed]",
      "text/plain": [
       "<Figure size 640x480 with 1 Axes>"
      ]
     },
     "metadata": {},
     "output_type": "display_data"
    }
   ],
   "source": [
    "df['is_institution'].value_counts().plot(kind = 'bar')"
   ]
  },
  {
   "cell_type": "markdown",
   "metadata": {},
   "source": [
    "## Data Processing"
   ]
  },
  {
   "cell_type": "markdown",
   "metadata": {},
   "source": [
    "### Split Dates"
   ]
  },
  {
   "cell_type": "code",
   "execution_count": 87,
   "metadata": {},
   "outputs": [],
   "source": [
    "pol_event_date = dt.datetime(2023, 11, 11)\n",
    "df['after'] = 0\n",
    "df.loc[df['date'] > pol_event_date, 'after'] = 1"
   ]
  },
  {
   "cell_type": "markdown",
   "metadata": {},
   "source": [
    "### Create Hashtag Column"
   ]
  },
  {
   "cell_type": "code",
   "execution_count": 88,
   "metadata": {},
   "outputs": [],
   "source": [
    "# function to get hashtags\n",
    "def get_hashtags(text):\n",
    "    hashtags = re.findall(r'#\\w+', text)\n",
    "    if hashtags != []:\n",
    "        return re.findall(r'#\\w+', text)\n",
    "    else:\n",
    "        return np.nan"
   ]
  },
  {
   "cell_type": "code",
   "execution_count": 89,
   "metadata": {},
   "outputs": [],
   "source": [
    "df['hashtags'] = df['text'].apply(get_hashtags)"
   ]
  },
  {
   "cell_type": "code",
   "execution_count": 90,
   "metadata": {},
   "outputs": [
    {
     "data": {
      "text/plain": [
       "0                            [#femminicidio, #femminicidi]\n",
       "1                                               [#Raiplay]\n",
       "2                                          [#Femminicidio]\n",
       "3                    [#Attualità, #Italia, #UltimeNotizie]\n",
       "4                                   [#Sardegna, #violenza]\n",
       "                               ...                        \n",
       "22072    [#humanrights, #Imrali, #Turkey, #FreeOcalanNo...\n",
       "22073            [#humanrights, #Turkey, #Kurds, #podcast]\n",
       "22074                                     [#FreeOcalanNow]\n",
       "22075                        [#eutanasialegale, #medioevo]\n",
       "22076         [#uominimaltrattanti, #femminicidio, #donne]\n",
       "Name: hashtags, Length: 22077, dtype: object"
      ]
     },
     "execution_count": 90,
     "metadata": {},
     "output_type": "execute_result"
    }
   ],
   "source": [
    "df.loc[df['hashtags'].notna(), 'hashtags'].reset_index(drop=True)"
   ]
  },
  {
   "cell_type": "markdown",
   "metadata": {},
   "source": [
    "### Clean Tweets"
   ]
  },
  {
   "cell_type": "code",
   "execution_count": 91,
   "metadata": {},
   "outputs": [],
   "source": [
    "def remover(text, chars = ['@', '#', 'http']):\n",
    "\n",
    "    starting_chars = '|'.join(chars)\n",
    "    for word in text.split():\n",
    "        if re.match(f'{starting_chars}[A-za-z]+', word):\n",
    "            text = text.replace(word, '')\n",
    "        \n",
    "    return text"
   ]
  },
  {
   "cell_type": "code",
   "execution_count": 92,
   "metadata": {},
   "outputs": [],
   "source": [
    "def remove_apostrophe(text):\n",
    "    return text.replace(\"'\", \" \")"
   ]
  },
  {
   "cell_type": "code",
   "execution_count": 93,
   "metadata": {},
   "outputs": [],
   "source": [
    "def remove_words_under(text, n=2):\n",
    "    return ' '.join([word for word in text.split() if len(word) > n])"
   ]
  },
  {
   "cell_type": "code",
   "execution_count": 94,
   "metadata": {},
   "outputs": [],
   "source": [
    "def duster(text):\n",
    "    return remove_words_under(remove_apostrophe(remover(text)))"
   ]
  },
  {
   "cell_type": "code",
   "execution_count": 95,
   "metadata": {},
   "outputs": [],
   "source": [
    "df['clean_text'] = df['text'].apply(lambda x: duster(x).lower())\n",
    "df['clean_text'] = df['clean_text'].apply(lambda x: clean(x, no_urls=True, no_emails=True, no_phone_numbers=True, no_numbers=True, no_digits=True, no_currency_symbols=True, no_punct=True, no_emoji=True, replace_with_url='', replace_with_email='', replace_with_phone_number='', replace_with_number='', replace_with_digit='', replace_with_currency_symbol='', replace_with_punct=''))"
   ]
  },
  {
   "cell_type": "code",
   "execution_count": 96,
   "metadata": {},
   "outputs": [
    {
     "data": {
      "text/plain": [
       "0    solo donne possono parlare aborto solo gli uom...\n",
       "1                                                     \n",
       "2    paesi baschi aiuto annuale per gli orfani femm...\n",
       "3    ambasciata italia vienna aderisce alla campagn...\n",
       "4    bhe speriamo che non sia per qualche femminici...\n",
       "Name: clean_text, dtype: object"
      ]
     },
     "execution_count": 96,
     "metadata": {},
     "output_type": "execute_result"
    }
   ],
   "source": [
    "df['clean_text'].head()"
   ]
  },
  {
   "cell_type": "code",
   "execution_count": 97,
   "metadata": {},
   "outputs": [],
   "source": [
    "nlp = spacy.load('it_core_news_sm')"
   ]
  },
  {
   "cell_type": "code",
   "execution_count": 100,
   "metadata": {},
   "outputs": [],
   "source": [
    "texts_before = df.loc[(df['after'] == 0) & (df['is_institution'] == 0), 'clean_text'].values\n",
    "texts_after = df.loc[(df['after'] == 1) & (df['is_institution'] == 0), 'clean_text'].values\n",
    "documents_before = list(nlp.pipe(texts_before))\n",
    "documents_after = list(nlp.pipe(texts_after))"
   ]
  },
  {
   "cell_type": "code",
   "execution_count": 101,
   "metadata": {},
   "outputs": [],
   "source": [
    "corpus_before = [[word.text for word in doc if not word.is_stop] for doc in documents_before]\n",
    "corpus_after = [[word.text for word in doc if not word.is_stop] for doc in documents_after]"
   ]
  },
  {
   "cell_type": "code",
   "execution_count": 102,
   "metadata": {},
   "outputs": [
    {
     "name": "stdout",
     "output_type": "stream",
     "text": [
      "29715 30832\n"
     ]
    }
   ],
   "source": [
    "print(len(corpus_before), len(corpus_after))"
   ]
  },
  {
   "cell_type": "code",
   "execution_count": 103,
   "metadata": {},
   "outputs": [],
   "source": [
    "from gensim.models import word2vec\n",
    "import os\n",
    "\n",
    "w2v_before = word2vec.Word2Vec(corpus_before, vector_size=100, window=5, min_count=1, workers=os.cpu_count())\n",
    "w2v_after = word2vec.Word2Vec(corpus_after, vector_size=100, window=5, min_count=1, workers=os.cpu_count())"
   ]
  },
  {
   "cell_type": "code",
   "execution_count": 104,
   "metadata": {},
   "outputs": [
    {
     "data": {
      "text/plain": [
       "[('inutile', 0.9995319247245789),\n",
       " ('gente', 0.9995076060295105),\n",
       " ('atto', 0.9995054602622986),\n",
       " ('sicuramente', 0.9994710087776184),\n",
       " ('twitter', 0.9994612336158752),\n",
       " ('direi', 0.9994602799415588),\n",
       " ('risposta', 0.9994598627090454),\n",
       " ('propaganda', 0.9994434714317322),\n",
       " ('chissa', 0.9994407892227173),\n",
       " ('vivere', 0.9994282126426697)]"
      ]
     },
     "execution_count": 104,
     "metadata": {},
     "output_type": "execute_result"
    }
   ],
   "source": [
    "w2v_before.wv.most_similar('giustizia')"
   ]
  },
  {
   "cell_type": "code",
   "execution_count": 105,
   "metadata": {},
   "outputs": [
    {
     "data": {
      "text/plain": [
       "[('diretta', 0.9993073344230652),\n",
       " ('avra', 0.9991934299468994),\n",
       " ('cara', 0.9988837242126465),\n",
       " ('vicenda', 0.9987579584121704),\n",
       " ('news', 0.9987444877624512),\n",
       " ('ricordate', 0.9986198544502258),\n",
       " ('riesco', 0.9985950589179993),\n",
       " ('cuore', 0.998579740524292),\n",
       " ('particolari', 0.9983978271484375),\n",
       " ('piange', 0.998395562171936)]"
      ]
     },
     "execution_count": 105,
     "metadata": {},
     "output_type": "execute_result"
    }
   ],
   "source": [
    "w2v_after.wv.most_similar('giustizia')"
   ]
  },
  {
   "cell_type": "code",
   "execution_count": 106,
   "metadata": {},
   "outputs": [],
   "source": [
    "def similarity_before_after(words, model_before, model_after):\n",
    "    if type(words) == str:\n",
    "        try:\n",
    "            vec_before = model_before.wv[words]\n",
    "            vec_after = model_after.wv[words]\n",
    "            similarity = cosine_similarity([vec_before], [vec_after])\n",
    "            return {words: similarity[0][0]}\n",
    "        except KeyError:\n",
    "            return {words: 'word not in vocabulary'}\n",
    "    else:\n",
    "        similarities = {}\n",
    "        for word in words:\n",
    "            try:\n",
    "                vec_before = model_before.wv[word]\n",
    "                vec_after = model_after.wv[word]\n",
    "                similarity = cosine_similarity([vec_before], [vec_after])\n",
    "                similarities[word] = similarity[0][0]\n",
    "            except KeyError:\n",
    "                similarities[word] = 'word not in vocabulary'\n",
    "        return similarities"
   ]
  },
  {
   "cell_type": "code",
   "execution_count": 107,
   "metadata": {},
   "outputs": [
    {
     "name": "stdout",
     "output_type": "stream",
     "text": [
      "the similarity between the word femminicidio before and after the event is 0.7266804575920105\n"
     ]
    }
   ],
   "source": [
    "word = 'femminicidio'\n",
    "similarity = similarity_before_after(word, w2v_before, w2v_after)\n",
    "print(f'the similarity between the word {word} before and after the event is {similarity[word]}')"
   ]
  },
  {
   "cell_type": "code",
   "execution_count": 108,
   "metadata": {},
   "outputs": [
    {
     "name": "stdout",
     "output_type": "stream",
     "text": [
      "the similarity between the word destra before and after the event is 0.7894886136054993\n",
      "the similarity between the word sinistra before and after the event is 0.8033135533332825\n",
      "the similarity between the word donna before and after the event is 0.6422968506813049\n",
      "the similarity between the word aborto before and after the event is 0.7619597911834717\n",
      "the similarity between the word giustizia before and after the event is 0.7999809384346008\n",
      "the similarity between the word femminicidio before and after the event is 0.7266804575920105\n",
      "the similarity between the word omicidio before and after the event is 0.6911720633506775\n",
      "the similarity between the word violenza before and after the event is 0.6220027804374695\n"
     ]
    }
   ],
   "source": [
    "polarizing_words = ['destra', 'sinistra', 'donna', 'aborto', 'giustizia', 'femminicidio', 'omicidio', 'violenza']\n",
    "similarities = similarity_before_after(polarizing_words, w2v_before, w2v_after)\n",
    "for word in similarities:\n",
    "    print(f'the similarity between the word {word} before and after the event is {similarities[word]}')"
   ]
  },
  {
   "cell_type": "code",
   "execution_count": 99,
   "metadata": {},
   "outputs": [],
   "source": [
    "vocab_before = list(w2v_before.wv.key_to_index)\n",
    "X_before = w2v_before.wv[vocab_before]\n",
    "tsne = TSNE(n_components=2)\n",
    "X_tsne = tsne.fit_transform(X_before)"
   ]
  },
  {
   "cell_type": "code",
   "execution_count": 100,
   "metadata": {},
   "outputs": [],
   "source": [
    "vocab_after = list(w2v_after.wv.key_to_index)\n",
    "X_after = w2v_after.wv[vocab_after]\n",
    "tsne = TSNE(n_components=2)\n",
    "X_tsne_after = tsne.fit_transform(X_after)"
   ]
  },
  {
   "cell_type": "code",
   "execution_count": 101,
   "metadata": {},
   "outputs": [],
   "source": [
    "df_before = pd.DataFrame(X_tsne, index=vocab_before, columns=['x', 'y'])\n",
    "df_after = pd.DataFrame(X_tsne_after, index = vocab_after, columns = ['x', 'y'])"
   ]
  },
  {
   "cell_type": "code",
   "execution_count": 102,
   "metadata": {},
   "outputs": [],
   "source": [
    "df_before = df_before.loc[polarizing_words]\n",
    "df_after = df_after.loc[polarizing_words]"
   ]
  },
  {
   "cell_type": "code",
   "execution_count": 103,
   "metadata": {},
   "outputs": [
    {
     "data": {
      "image/png": "[encoded data removed]",
      "text/plain": [
       "<Figure size 1500x700 with 1 Axes>"
      ]
     },
     "metadata": {},
     "output_type": "display_data"
    }
   ],
   "source": [
    "fig = plt.figure(figsize = (15, 7))\n",
    "ax = fig.add_subplot(1, 1, 1)\n",
    "ax.scatter(df_before['x'], df_before['y'], color = 'blue', label = 'embeddings before')\n",
    "ax.scatter(df_after['x'], df_after['y'], color = 'orange', label = 'embeddings after')\n",
    "ax.legend()\n",
    "\n",
    "for word, pos in df_before.iterrows():\n",
    "    ax.annotate(word, pos)\n",
    "for word, pos in df_after.iterrows():\n",
    "    ax.annotate(word, pos)\n",
    "plt.title('Embeddings 2D Visualization')\n",
    "plt.show()"
   ]
  },
  {
   "cell_type": "markdown",
   "metadata": {},
   "source": [
    "## Word Comparison"
   ]
  },
  {
   "cell_type": "code",
   "execution_count": 109,
   "metadata": {},
   "outputs": [],
   "source": [
    "from copy import deepcopy\n",
    "\n",
    "#define a function that converts the word2vec models into numpy arrays\n",
    "def w2v_to_numpy (model):\n",
    "  model.wv.fill_norms()\n",
    "  embeddings = deepcopy (model.wv.get_normed_vectors())\n",
    "  idx = {w:i for i, w in enumerate (model.wv.index_to_key)}\n",
    "  iidx = {i:w for i, w in enumerate (model.wv.index_to_key)}\n",
    "\n",
    "  return embeddings, (idx, iidx)\n",
    "\n",
    "#define a function that returns the nearest neighbors of a query\n",
    "def near_neighbors (embs, query, word2rownum, rownum2word, k=5):\n",
    "  sims = np.dot (embs, embs[word2rownum[query]])\n",
    "  indices = np.argsort (-sims)\n",
    "\n",
    "  return [(rownum2word[index], sims[index]) for index in indices[1:k+1]]"
   ]
  },
  {
   "cell_type": "code",
   "execution_count": 110,
   "metadata": {},
   "outputs": [],
   "source": [
    "#define functions to make meaningful comparisons of words across models\n",
    "def procrustes(A, B):\n",
    "    U, _, Vt = np.linalg.svd(B.T.dot(A))\n",
    "    return U.dot(Vt)\n",
    "\n",
    "def intersect_vocab (idx1, idx2):\n",
    "  common = idx1.keys() & idx2.keys()\n",
    "  common_vocab = [v for v in common]\n",
    "\n",
    "  common_idx, common_iidx = {v:i for i,v in enumerate (common_vocab)}, {i:v for i,v in enumerate (common_vocab)}\n",
    "  return common_vocab, (common_idx, common_iidx)\n",
    "\n",
    "def align_matrices (mat1, mat2, idx1, idx2):\n",
    "  common_vocab, (common_idx, common_iidx) = intersect_vocab (idx1, idx2)\n",
    "  row_nums1 = [idx1[v] for v in common_vocab]\n",
    "  row_nums2 = [idx2[v] for v in common_vocab]\n",
    "\n",
    "  remapped_mat1 = mat1[row_nums1, :]\n",
    "  remapped_mat2 = mat2[row_nums2, :]\n",
    "  omega = procrustes (remapped_mat1, remapped_mat2)\n",
    "\n",
    "  rotated_mat2 = np.dot (remapped_mat2, omega)\n",
    "\n",
    "  return remapped_mat1, rotated_mat2, (common_idx, common_iidx)"
   ]
  },
  {
   "cell_type": "code",
   "execution_count": 111,
   "metadata": {},
   "outputs": [],
   "source": [
    "before_embs, (before_idx, before_iidx) = w2v_to_numpy(w2v_before)\n",
    "after_embs, (after_idx, after_iidx) = w2v_to_numpy(w2v_after)\n",
    "before_aligned_embs, after_aligned_embs, (common_idx, common_iidx) = align_matrices (before_embs, after_embs, before_idx, after_idx)"
   ]
  },
  {
   "cell_type": "code",
   "execution_count": 112,
   "metadata": {},
   "outputs": [],
   "source": [
    "#define the sets of words\n",
    "victim_words = ['vittima', 'assassinata','innocente']\n",
    "murderer_words = ['omicida', 'assassino', 'mostro', 'colpevole','delinquente', 'criminale']\n",
    "emotional_neg_words = ['gelosia', 'tradimento', 'rifiuto','vendetta']\n",
    "emotional_pos_words = ['passione','felici', 'amore', 'rispetto']\n",
    "crude_words = ['sangue', 'cadavere', 'strangolata', 'violenza', 'tortura']\n",
    "modal_words = ['dovere', 'necessario', 'bisogno', 'occorre', 'urgente', 'essenziale', 'fondamentale']\n",
    "patriarchy_words = ['patriarcato', 'ingiustizia', 'oppressione', 'discriminazione','sessismo', 'retrogrado']\n"
   ]
  },
  {
   "cell_type": "markdown",
   "metadata": {},
   "source": [
    "## Across models comparison (how words evolved over time)"
   ]
  },
  {
   "cell_type": "code",
   "execution_count": 113,
   "metadata": {},
   "outputs": [
    {
     "name": "stdout",
     "output_type": "stream",
     "text": [
      "innocente 0.99696124\n",
      "assassinata 0.9921971\n",
      "vittima 0.9458394\n"
     ]
    }
   ],
   "source": [
    "#victim related words comparison across models\n",
    "victim_words_sims = [(w, before_aligned_embs[common_idx[w]].dot(after_aligned_embs[common_idx[w]])) for w in victim_words]\n",
    "for w,score in sorted (victim_words_sims, key=lambda x:x[1], reverse=True):\n",
    "  print (w, score)"
   ]
  },
  {
   "cell_type": "code",
   "execution_count": 114,
   "metadata": {},
   "outputs": [
    {
     "name": "stdout",
     "output_type": "stream",
     "text": [
      "colpevole 0.9947967\n",
      "mostro 0.9912563\n",
      "omicida 0.9896606\n",
      "assassino 0.98656446\n",
      "criminale 0.98538995\n",
      "delinquente 0.97481\n"
     ]
    }
   ],
   "source": [
    "#murderer related words comparison across models\n",
    "murderer_words_sims = [(w, before_aligned_embs[common_idx[w]].dot(after_aligned_embs[common_idx[w]])) for w in murderer_words]\n",
    "for w,score in sorted (murderer_words_sims, key=lambda x:x[1], reverse=True):\n",
    "  print (w, score)"
   ]
  },
  {
   "cell_type": "code",
   "execution_count": 115,
   "metadata": {},
   "outputs": [
    {
     "name": "stdout",
     "output_type": "stream",
     "text": [
      "rifiuto 0.9941734\n",
      "vendetta 0.9938046\n",
      "tradimento 0.98907393\n",
      "gelosia 0.982276\n"
     ]
    }
   ],
   "source": [
    "#negative emotional words comparison across models\n",
    "emotional_neg_words_sims = [(w, before_aligned_embs[common_idx[w]].dot(after_aligned_embs[common_idx[w]])) for w in emotional_neg_words]\n",
    "for w,score in sorted (emotional_neg_words_sims, key=lambda x:x[1], reverse=True):\n",
    "  print (w, score)"
   ]
  },
  {
   "cell_type": "code",
   "execution_count": 116,
   "metadata": {},
   "outputs": [
    {
     "name": "stdout",
     "output_type": "stream",
     "text": [
      "passione 0.992391\n",
      "rispetto 0.9806243\n",
      "amore 0.9780126\n",
      "felici 0.97441906\n"
     ]
    }
   ],
   "source": [
    "#positive emotional words comparison across models\n",
    "emotional_pos_words_sims = [(w, before_aligned_embs[common_idx[w]].dot(after_aligned_embs[common_idx[w]])) for w in emotional_pos_words]\n",
    "for w,score in sorted (emotional_pos_words_sims, key=lambda x:x[1], reverse=True):\n",
    "  print (w, score)"
   ]
  },
  {
   "cell_type": "code",
   "execution_count": 117,
   "metadata": {},
   "outputs": [
    {
     "name": "stdout",
     "output_type": "stream",
     "text": [
      "sangue 0.99745995\n",
      "cadavere 0.9920637\n",
      "tortura 0.9734747\n",
      "strangolata 0.93438196\n",
      "violenza 0.91892606\n"
     ]
    }
   ],
   "source": [
    "#crude words comparison across models\n",
    "crude_words_sims = [(w, before_aligned_embs[common_idx[w]].dot(after_aligned_embs[common_idx[w]])) for w in crude_words]\n",
    "for w,score in sorted (crude_words_sims, key=lambda x:x[1], reverse=True):\n",
    "  print (w, score)"
   ]
  },
  {
   "cell_type": "code",
   "execution_count": 118,
   "metadata": {},
   "outputs": [
    {
     "name": "stdout",
     "output_type": "stream",
     "text": [
      "necessario 0.9981343\n",
      "dovere 0.99766976\n",
      "urgente 0.99672526\n",
      "occorre 0.99639016\n",
      "bisogno 0.9963419\n",
      "fondamentale 0.9945413\n",
      "essenziale 0.9768123\n"
     ]
    }
   ],
   "source": [
    "#modal words comparison across models\n",
    "modal_words_sims = [(w, before_aligned_embs[common_idx[w]].dot(after_aligned_embs[common_idx[w]])) for w in modal_words]\n",
    "for w,score in sorted (modal_words_sims, key=lambda x:x[1], reverse=True):\n",
    "  print (w, score)"
   ]
  },
  {
   "cell_type": "code",
   "execution_count": 119,
   "metadata": {},
   "outputs": [
    {
     "name": "stdout",
     "output_type": "stream",
     "text": [
      "sessismo 0.9873878\n",
      "discriminazione 0.97903574\n",
      "oppressione 0.9786676\n",
      "ingiustizia 0.9744378\n",
      "patriarcato 0.9645715\n",
      "retrogrado 0.8918998\n"
     ]
    }
   ],
   "source": [
    "#patriarchy words comparison across models\n",
    "patriarchy_words_sims = [(w, before_aligned_embs[common_idx[w]].dot(after_aligned_embs[common_idx[w]])) for w in patriarchy_words]\n",
    "for w,score in sorted (patriarchy_words_sims, key=lambda x:x[1], reverse=True):\n",
    "  print (w, score)"
   ]
  },
  {
   "cell_type": "markdown",
   "metadata": {},
   "source": [
    "We now compare the most and least similar words between the models, across the entire vocabulary"
   ]
  },
  {
   "cell_type": "code",
   "execution_count": 120,
   "metadata": {},
   "outputs": [
    {
     "name": "stdout",
     "output_type": "stream",
     "text": [
      "Most similar words\n",
      "difesa 0.99937576\n",
      "que 0.99923515\n",
      "the 0.9992098\n",
      "campagna 0.999163\n",
      "gioco 0.99914473\n",
      "pubblico 0.9991371\n",
      "morale 0.99913526\n",
      "devo 0.9991251\n",
      "giudice 0.9991187\n",
      "informazione 0.9990941\n",
      "\n",
      "\n",
      "Least similar words\n",
      "sprofondato -0.6642332\n",
      "ininterrotta -0.59940434\n",
      "assegnazione -0.5965273\n",
      "legare -0.54276407\n",
      "ballate -0.48681614\n",
      "licenzia -0.48200777\n",
      "distorte -0.47844994\n",
      "prestato -0.47112533\n",
      "definirti -0.43621525\n",
      "aggrapparsi -0.41785565\n"
     ]
    }
   ],
   "source": [
    "sims = [(w, before_aligned_embs[common_idx[w]].dot(after_aligned_embs[common_idx[w]])) for w in common_idx.keys()]\n",
    "\n",
    "print('Most similar words')\n",
    "for w, sim in sorted (sims, key=lambda x:x[1], reverse=True)[0:10]:\n",
    "  print (w, sim)\n",
    "print()\n",
    "print()\n",
    "print('Least similar words')\n",
    "for w, sim in sorted (sims, key=lambda x:x[1], reverse=False)[0:10]:\n",
    "  print (w, sim)"
   ]
  },
  {
   "cell_type": "markdown",
   "metadata": {},
   "source": [
    "## Within model comparison"
   ]
  },
  {
   "cell_type": "code",
   "execution_count": 121,
   "metadata": {},
   "outputs": [
    {
     "name": "stdout",
     "output_type": "stream",
     "text": [
      "Near neighbors for \"vittima\" in the before corpus\n",
      "('altra', 0.99523413)\n",
      "('bologna', 0.9936305)\n",
      "('rapina', 0.9925574)\n",
      "('frosinone', 0.9923877)\n",
      "('villabate', 0.99233633)\n",
      "\n",
      "Near neighbors for \"vittima\" in the after corpus\n",
      "('ennesima', 0.98707414)\n",
      "('lennesima', 0.9838154)\n",
      "('ragazza', 0.9767756)\n",
      "('povera', 0.9731071)\n",
      "('figlia', 0.9710413)\n",
      "\n",
      "\n",
      "Near neighbors for \"assassinata\" in the before corpus\n",
      "('strangolata', 0.9989439)\n",
      "('corpo', 0.99873775)\n",
      "('scomparsa', 0.9986553)\n",
      "('marocchino', 0.9983131)\n",
      "('ristorante', 0.99830425)\n",
      "\n",
      "Near neighbors for \"assassinata\" in the after corpus\n",
      "('voleva', 0.99883676)\n",
      "('ammazzato', 0.99844056)\n",
      "('vicina', 0.99800634)\n",
      "('bovolenta', 0.9977194)\n",
      "('pio', 0.99770224)\n",
      "\n",
      "\n",
      "Near neighbors for \"innocente\" in the before corpus\n",
      "('dettagli', 0.99917316)\n",
      "('bagno', 0.9990854)\n",
      "('chiede', 0.9990185)\n",
      "('finita', 0.99892735)\n",
      "('quartiere', 0.99889624)\n",
      "\n",
      "Near neighbors for \"innocente\" in the after corpus\n",
      "('amore', 0.998114)\n",
      "('lassassino', 0.99797195)\n",
      "('fratello', 0.9979496)\n",
      "('pazzo', 0.997944)\n",
      "('presunto', 0.9978984)\n",
      "\n",
      "\n"
     ]
    }
   ],
   "source": [
    "#nearest neighbors for victim related words\n",
    "for word in victim_words:\n",
    "  print (f'Near neighbors for \"{word}\" in the before corpus')\n",
    "  for item in near_neighbors (before_embs, word, before_idx, before_iidx, k=5):\n",
    "    print (item)\n",
    "  print ()\n",
    "  print (f'Near neighbors for \"{word}\" in the after corpus')\n",
    "  for item in near_neighbors (after_embs, word, after_idx, after_iidx, k=5):\n",
    "    print (item)\n",
    "  print()\n",
    "  print()"
   ]
  },
  {
   "cell_type": "code",
   "execution_count": 122,
   "metadata": {},
   "outputs": [
    {
     "name": "stdout",
     "output_type": "stream",
     "text": [
      "Near neighbors for \"omicida\" in the before corpus\n",
      "('lassassino', 0.9997102)\n",
      "('ragazzo', 0.9996988)\n",
      "('bambina', 0.99962354)\n",
      "('procura', 0.9995761)\n",
      "('indagini', 0.9994669)\n",
      "\n",
      "Near neighbors for \"omicida\" in the after corpus\n",
      "('vivo', 0.99938124)\n",
      "('esce', 0.9993708)\n",
      "('racconta', 0.99931383)\n",
      "('caccia', 0.9992863)\n",
      "('matrimonio', 0.9991511)\n",
      "\n",
      "\n",
      "Near neighbors for \"assassino\" in the before corpus\n",
      "('giovane', 0.9980505)\n",
      "('strada', 0.9977523)\n",
      "('ammazzata', 0.9977367)\n",
      "('sorrento', 0.99756175)\n",
      "('martina', 0.9975612)\n",
      "\n",
      "Near neighbors for \"assassino\" in the after corpus\n",
      "('parente', 0.9965827)\n",
      "('assassinata', 0.99618626)\n",
      "('ammazzato', 0.9961464)\n",
      "('giudicato', 0.99607646)\n",
      "('voleva', 0.9959579)\n",
      "\n",
      "\n",
      "Near neighbors for \"mostro\" in the before corpus\n",
      "('procura', 0.99934924)\n",
      "('fermo', 0.9993211)\n",
      "('zona', 0.9992646)\n",
      "('lassassino', 0.99924266)\n",
      "('dettagli', 0.9992176)\n",
      "\n",
      "Near neighbors for \"mostro\" in the after corpus\n",
      "('kosovaro', 0.9976151)\n",
      "('lassassino', 0.99740446)\n",
      "('pazzo', 0.99728507)\n",
      "('presunto', 0.9967133)\n",
      "('bambino', 0.9966643)\n",
      "\n",
      "\n",
      "Near neighbors for \"colpevole\" in the before corpus\n",
      "('rovereto', 0.99938)\n",
      "('immigrato', 0.9993013)\n",
      "('brutale', 0.9991536)\n",
      "('letto', 0.9990505)\n",
      "('assassinio', 0.9990374)\n",
      "\n",
      "Near neighbors for \"colpevole\" in the after corpus\n",
      "('=', 0.9984324)\n",
      "('immigrato', 0.9980799)\n",
      "('raptus', 0.9980558)\n",
      "('vergogno', 0.99786496)\n",
      "('classico', 0.99759746)\n",
      "\n",
      "\n",
      "Near neighbors for \"delinquente\" in the before corpus\n",
      "('milano', 0.9940024)\n",
      "('ucraina', 0.99392074)\n",
      "('elena', 0.99389064)\n",
      "('pm', 0.9937742)\n",
      "('siragusa', 0.99375856)\n",
      "\n",
      "Near neighbors for \"delinquente\" in the after corpus\n",
      "('probabile', 0.99737096)\n",
      "('francesco', 0.9973521)\n",
      "('omicida', 0.9973313)\n",
      "('strumentale', 0.9973259)\n",
      "('giudizio', 0.99731827)\n",
      "\n",
      "\n",
      "Near neighbors for \"criminale\" in the before corpus\n",
      "('social', 0.99962336)\n",
      "('potuto', 0.9995689)\n",
      "('dovuto', 0.99953806)\n",
      "('ricorda', 0.9995003)\n",
      "('orrore', 0.9994706)\n",
      "\n",
      "Near neighbors for \"criminale\" in the after corpus\n",
      "('accusato', 0.999183)\n",
      "('bambino', 0.99843687)\n",
      "('ergastolo', 0.99843323)\n",
      "('cadavere', 0.9982497)\n",
      "('fuga', 0.9981954)\n",
      "\n",
      "\n"
     ]
    }
   ],
   "source": [
    "#nearest neighbors for murderer related words\n",
    "for word in murderer_words:\n",
    "  print (f'Near neighbors for \"{word}\" in the before corpus')\n",
    "  for item in near_neighbors (before_embs, word, before_idx, before_iidx, k=5):\n",
    "    print (item)\n",
    "  print ()\n",
    "  print (f'Near neighbors for \"{word}\" in the after corpus')\n",
    "  for item in near_neighbors (after_embs, word, after_idx, after_iidx, k=5):\n",
    "    print (item)\n",
    "  print()\n",
    "  print()"
   ]
  },
  {
   "cell_type": "code",
   "execution_count": 123,
   "metadata": {},
   "outputs": [
    {
     "name": "stdout",
     "output_type": "stream",
     "text": [
      "Near neighbors for \"passione\" in the before corpus\n",
      "('nome', 0.99891615)\n",
      "('racconta', 0.99888325)\n",
      "('prossimo', 0.99887705)\n",
      "('dato', 0.9987905)\n",
      "('episodio', 0.99876165)\n",
      "\n",
      "Near neighbors for \"passione\" in the after corpus\n",
      "('feto', 0.99657357)\n",
      "('decide', 0.996464)\n",
      "('sente', 0.9962879)\n",
      "('incidente', 0.9962245)\n",
      "('immigrato', 0.9961881)\n",
      "\n",
      "\n",
      "Near neighbors for \"felici\" in the before corpus\n",
      "('potere', 0.9982819)\n",
      "('politici', 0.9982095)\n",
      "('son', 0.9982072)\n",
      "('simili', 0.9981826)\n",
      "('classe', 0.99814415)\n",
      "\n",
      "Near neighbors for \"felici\" in the after corpus\n",
      "('saputo', 0.9972989)\n",
      "('notte', 0.9972612)\n",
      "('rosa', 0.99725884)\n",
      "('torino', 0.9972299)\n",
      "('segni', 0.9972203)\n",
      "\n",
      "\n",
      "Near neighbors for \"amore\" in the before corpus\n",
      "('simbolo', 0.9988678)\n",
      "('sicuro', 0.99881244)\n",
      "('rischio', 0.9985287)\n",
      "('settimana', 0.9984257)\n",
      "('capisco', 0.99841344)\n",
      "\n",
      "Near neighbors for \"amore\" in the after corpus\n",
      "('fratello', 0.9984598)\n",
      "('pazzo', 0.99818677)\n",
      "('stavolta', 0.9981233)\n",
      "('ama', 0.9981172)\n",
      "('innocente', 0.998114)\n",
      "\n",
      "\n",
      "Near neighbors for \"rispetto\" in the before corpus\n",
      "('totale', 0.9990537)\n",
      "('educare', 0.99876165)\n",
      "('altre', 0.99858457)\n",
      "('insegnare', 0.9985597)\n",
      "('nomi', 0.9983095)\n",
      "\n",
      "Near neighbors for \"rispetto\" in the after corpus\n",
      "('allanno', 0.9938806)\n",
      "('contano', 0.9927725)\n",
      "('continuano', 0.9927408)\n",
      "('serie', 0.99260765)\n",
      "('giornata', 0.99208415)\n",
      "\n",
      "\n"
     ]
    }
   ],
   "source": [
    "#nearest neighbors for positive emotional words\n",
    "for word in emotional_pos_words:\n",
    "  print (f'Near neighbors for \"{word}\" in the before corpus')\n",
    "  for item in near_neighbors (before_embs, word, before_idx, before_iidx, k=5):\n",
    "    print (item)\n",
    "  print ()\n",
    "  print (f'Near neighbors for \"{word}\" in the after corpus')\n",
    "  for item in near_neighbors (after_embs, word, after_idx, after_iidx, k=5):\n",
    "    print (item)\n",
    "  print()\n",
    "  print()"
   ]
  },
  {
   "cell_type": "code",
   "execution_count": 124,
   "metadata": {},
   "outputs": [
    {
     "name": "stdout",
     "output_type": "stream",
     "text": [
      "Near neighbors for \"gelosia\" in the before corpus\n",
      "('veneto', 0.99858713)\n",
      "('tragedia', 0.99812186)\n",
      "('annunciato', 0.99780965)\n",
      "('chiama', 0.9977408)\n",
      "('botte', 0.99768037)\n",
      "\n",
      "Near neighbors for \"gelosia\" in the after corpus\n",
      "('uccido', 0.9977863)\n",
      "('individuo', 0.9976141)\n",
      "('ammazzi', 0.9968363)\n",
      "('considerata', 0.99657714)\n",
      "('ammazza', 0.9958007)\n",
      "\n",
      "\n",
      "Near neighbors for \"tradimento\" in the before corpus\n",
      "('raptus', 0.9988786)\n",
      "('sangue', 0.998827)\n",
      "('cuore', 0.9988128)\n",
      "('deciso', 0.9986876)\n",
      "('farci', 0.99868643)\n",
      "\n",
      "Near neighbors for \"tradimento\" in the after corpus\n",
      "('questioni', 0.9979576)\n",
      "('comprendere', 0.99792373)\n",
      "('gay', 0.9978795)\n",
      "('devi', 0.99771804)\n",
      "('pericolo', 0.99756277)\n",
      "\n",
      "\n",
      "Near neighbors for \"rifiuto\" in the before corpus\n",
      "('situazioni', 0.9988467)\n",
      "('provvedimenti', 0.9987526)\n",
      "('denunciate', 0.99873483)\n",
      "('riesce', 0.9987325)\n",
      "('mamme', 0.99871767)\n",
      "\n",
      "Near neighbors for \"rifiuto\" in the after corpus\n",
      "('accettare', 0.9992494)\n",
      "('malato', 0.9989482)\n",
      "('malattia', 0.998863)\n",
      "('condizioni', 0.99882483)\n",
      "('provvedimenti', 0.9987464)\n",
      "\n",
      "\n",
      "Near neighbors for \"vendetta\" in the before corpus\n",
      "('massacro', 0.99917114)\n",
      "('grado', 0.99909604)\n",
      "('putin', 0.9988712)\n",
      "('psichiatra', 0.99881196)\n",
      "('comunita', 0.99880993)\n",
      "\n",
      "Near neighbors for \"vendetta\" in the after corpus\n",
      "('trovi', 0.99846816)\n",
      "('psicopatico', 0.9984424)\n",
      "('accetta', 0.9982826)\n",
      "('soldi', 0.998237)\n",
      "('decide', 0.9981584)\n",
      "\n",
      "\n"
     ]
    }
   ],
   "source": [
    "#nearest neighbors for negative emotional words\n",
    "for word in emotional_neg_words:\n",
    "  print (f'Near neighbors for \"{word}\" in the before corpus')\n",
    "  for item in near_neighbors (before_embs, word, before_idx, before_iidx, k=5):\n",
    "    print (item)\n",
    "  print ()\n",
    "  print (f'Near neighbors for \"{word}\" in the after corpus')\n",
    "  for item in near_neighbors (after_embs, word, after_idx, after_iidx, k=5):\n",
    "    print (item)\n",
    "  print()\n",
    "  print()"
   ]
  },
  {
   "cell_type": "code",
   "execution_count": 125,
   "metadata": {},
   "outputs": [
    {
     "name": "stdout",
     "output_type": "stream",
     "text": [
      "Near neighbors for \"sangue\" in the before corpus\n",
      "('testa', 0.999658)\n",
      "('cuore', 0.9996248)\n",
      "('napoli', 0.9995539)\n",
      "('domenica', 0.9995414)\n",
      "('giudizio', 0.99950063)\n",
      "\n",
      "Near neighbors for \"sangue\" in the after corpus\n",
      "('sapeva', 0.9992089)\n",
      "('servizio', 0.99912715)\n",
      "('colpito', 0.9990448)\n",
      "('veniva', 0.9986624)\n",
      "('avvocato', 0.9985667)\n",
      "\n",
      "\n",
      "Near neighbors for \"cadavere\" in the before corpus\n",
      "('voleva', 0.9995544)\n",
      "('corpo', 0.99932843)\n",
      "('tolto', 0.99928355)\n",
      "('geloso', 0.9991995)\n",
      "('cinzia', 0.9991752)\n",
      "\n",
      "Near neighbors for \"cadavere\" in the after corpus\n",
      "('voleva', 0.99883974)\n",
      "('bastardo', 0.99875903)\n",
      "('fandaj', 0.9986427)\n",
      "('chiamava', 0.99859804)\n",
      "('ergastolo', 0.9984501)\n",
      "\n",
      "\n",
      "Near neighbors for \"strangolata\" in the before corpus\n",
      "('assassinata', 0.9989439)\n",
      "('fratello', 0.9986645)\n",
      "('romina', 0.99857354)\n",
      "('corpo', 0.9985691)\n",
      "('marinella', 0.99856055)\n",
      "\n",
      "Near neighbors for \"strangolata\" in the after corpus\n",
      "('marito', 0.9945512)\n",
      "('coltellate', 0.9886355)\n",
      "('moglie', 0.98703957)\n",
      "('talamelli', 0.9860331)\n",
      "('andria', 0.98600876)\n",
      "\n",
      "\n",
      "Near neighbors for \"violenza\" in the before corpus\n",
      "('odiano', 0.9785149)\n",
      "('eliminazione', 0.9783969)\n",
      "('mobbing', 0.97781473)\n",
      "('uguaglianza', 0.9766469)\n",
      "('dovranno', 0.97606564)\n",
      "\n",
      "Near neighbors for \"violenza\" in the after corpus\n",
      "('nonche', 0.96101886)\n",
      "('svolge', 0.9577236)\n",
      "('inchiesta', 0.95598745)\n",
      "('forma', 0.9532362)\n",
      "('maschile', 0.95322543)\n",
      "\n",
      "\n",
      "Near neighbors for \"tortura\" in the before corpus\n",
      "('sicurezza', 0.9964589)\n",
      "('civili', 0.99637467)\n",
      "('destra', 0.99637026)\n",
      "('coppie', 0.99634504)\n",
      "('politici', 0.9963282)\n",
      "\n",
      "Near neighbors for \"tortura\" in the after corpus\n",
      "('atto', 0.98809433)\n",
      "('prevaricazione', 0.9875781)\n",
      "('culmine', 0.9864502)\n",
      "('contesto', 0.986256)\n",
      "('stop', 0.98601013)\n",
      "\n",
      "\n"
     ]
    }
   ],
   "source": [
    "#nearest neighbors for crude words\n",
    "for word in crude_words:\n",
    "  print (f'Near neighbors for \"{word}\" in the before corpus')\n",
    "  for item in near_neighbors (before_embs, word, before_idx, before_iidx, k=5):\n",
    "    print (item)\n",
    "  print ()\n",
    "  print (f'Near neighbors for \"{word}\" in the after corpus')\n",
    "  for item in near_neighbors (after_embs, word, after_idx, after_iidx, k=5):\n",
    "    print (item)\n",
    "  print()\n",
    "  print()"
   ]
  },
  {
   "cell_type": "code",
   "execution_count": 126,
   "metadata": {},
   "outputs": [
    {
     "name": "stdout",
     "output_type": "stream",
     "text": [
      "Near neighbors for \"dovere\" in the before corpus\n",
      "('verita', 0.9992653)\n",
      "('chiedere', 0.9991181)\n",
      "('popolo', 0.9990754)\n",
      "('civilta', 0.9990675)\n",
      "('portano', 0.9990555)\n",
      "\n",
      "Near neighbors for \"dovere\" in the after corpus\n",
      "('amici', 0.9994116)\n",
      "('migliore', 0.99933946)\n",
      "('culo', 0.9993268)\n",
      "('giro', 0.9992748)\n",
      "('commento', 0.9991821)\n",
      "\n",
      "\n",
      "Near neighbors for \"necessario\" in the before corpus\n",
      "('frutto', 0.99941254)\n",
      "('relazioni', 0.99934846)\n",
      "('battaglia', 0.99919796)\n",
      "('discussione', 0.99919534)\n",
      "('risposte', 0.9991813)\n",
      "\n",
      "Near neighbors for \"necessario\" in the after corpus\n",
      "('impegno', 0.99936354)\n",
      "('stasera', 0.99926007)\n",
      "('arte', 0.9992367)\n",
      "('devo', 0.9992269)\n",
      "('commento', 0.9992237)\n",
      "\n",
      "\n",
      "Near neighbors for \"bisogno\" in the before corpus\n",
      "('questione', 0.99965334)\n",
      "('reati', 0.9996419)\n",
      "('dovrebbero', 0.99961746)\n",
      "('vogliamo', 0.9996071)\n",
      "('fatti', 0.9996003)\n",
      "\n",
      "Near neighbors for \"bisogno\" in the after corpus\n",
      "('veramente', 0.99950296)\n",
      "('piano', 0.9994252)\n",
      "('anzi', 0.99927217)\n",
      "('dibattito', 0.99913466)\n",
      "('unico', 0.9990232)\n",
      "\n",
      "\n",
      "Near neighbors for \"occorre\" in the before corpus\n",
      "('scuole', 0.99941266)\n",
      "('partire', 0.99927336)\n",
      "('cambiamento', 0.99908215)\n",
      "('servono', 0.99902344)\n",
      "('leducazione', 0.99891293)\n",
      "\n",
      "Near neighbors for \"occorre\" in the after corpus\n",
      "('servono', 0.9992386)\n",
      "('leducazione', 0.99889845)\n",
      "('salute', 0.99889404)\n",
      "('civile', 0.9986907)\n",
      "('bisognerebbe', 0.99860215)\n",
      "\n",
      "\n",
      "Near neighbors for \"urgente\" in the before corpus\n",
      "('dovreste', 0.9992901)\n",
      "('argomento', 0.99927694)\n",
      "('inutili', 0.9992516)\n",
      "('misogino', 0.9992187)\n",
      "('risposte', 0.99921036)\n",
      "\n",
      "Near neighbors for \"urgente\" in the after corpus\n",
      "('mentale', 0.99862015)\n",
      "('riflessione', 0.99854493)\n",
      "('servono', 0.99852824)\n",
      "('occorre', 0.9985037)\n",
      "('leducazione', 0.9985033)\n",
      "\n",
      "\n",
      "Near neighbors for \"essenziale\" in the before corpus\n",
      "('ms', 0.992841)\n",
      "('torna', 0.9927122)\n",
      "('chiave', 0.99242234)\n",
      "('capelli', 0.9922608)\n",
      "('importanza', 0.99218464)\n",
      "\n",
      "Near neighbors for \"essenziale\" in the after corpus\n",
      "('diverse', 0.99055946)\n",
      "('condizione', 0.9905411)\n",
      "('informati', 0.9904878)\n",
      "('colore', 0.99048483)\n",
      "('spinge', 0.9902299)\n",
      "\n",
      "\n",
      "Near neighbors for \"fondamentale\" in the before corpus\n",
      "('attenzione', 0.9994385)\n",
      "('rende', 0.9993485)\n",
      "('sicurezza', 0.99932194)\n",
      "('argomento', 0.9993026)\n",
      "('continuare', 0.999284)\n",
      "\n",
      "Near neighbors for \"fondamentale\" in the after corpus\n",
      "('utile', 0.99885315)\n",
      "('comportamento', 0.9987714)\n",
      "('togliere', 0.99876976)\n",
      "('vorrebbe', 0.9987165)\n",
      "('ignoranza', 0.9987138)\n",
      "\n",
      "\n"
     ]
    }
   ],
   "source": [
    "#nearest neighbors for modal words\n",
    "for word in modal_words:\n",
    "  print (f'Near neighbors for \"{word}\" in the before corpus')\n",
    "  for item in near_neighbors (before_embs, word, before_idx, before_iidx, k=5):\n",
    "    print (item)\n",
    "  print ()\n",
    "  print (f'Near neighbors for \"{word}\" in the after corpus')\n",
    "  for item in near_neighbors (after_embs, word, after_idx, after_iidx, k=5):\n",
    "    print (item)\n",
    "  print()\n",
    "  print()"
   ]
  },
  {
   "cell_type": "code",
   "execution_count": 127,
   "metadata": {},
   "outputs": [
    {
     "name": "stdout",
     "output_type": "stream",
     "text": [
      "Near neighbors for \"patriarcato\" in the before corpus\n",
      "('dicono', 0.99953103)\n",
      "('tanti', 0.9993787)\n",
      "('serie', 0.9992654)\n",
      "('ovvero', 0.9992255)\n",
      "('questione', 0.9992151)\n",
      "\n",
      "Near neighbors for \"patriarcato\" in the after corpus\n",
      "('risolto', 0.9897187)\n",
      "('stupro', 0.9887841)\n",
      "('punta', 0.98769045)\n",
      "('radicato', 0.98693156)\n",
      "('sistemico', 0.986095)\n",
      "\n",
      "\n",
      "Near neighbors for \"ingiustizia\" in the before corpus\n",
      "('studio', 0.9973844)\n",
      "('dover', 0.9973844)\n",
      "('situazioni', 0.9973228)\n",
      "('ovunque', 0.99727315)\n",
      "('riesce', 0.99727046)\n",
      "\n",
      "Near neighbors for \"ingiustizia\" in the after corpus\n",
      "('nome', 0.99136424)\n",
      "('siccome', 0.9911503)\n",
      "('legale', 0.9908906)\n",
      "('sento', 0.9906934)\n",
      "('finira', 0.99041843)\n",
      "\n",
      "\n",
      "Near neighbors for \"oppressione\" in the before corpus\n",
      "('vogliamo', 0.997119)\n",
      "('pedofilia', 0.9970892)\n",
      "('bisogno', 0.99696344)\n",
      "('bastano', 0.99692464)\n",
      "('numeri', 0.9968344)\n",
      "\n",
      "Near neighbors for \"oppressione\" in the after corpus\n",
      "('tossica', 0.99425757)\n",
      "('sessista', 0.99410546)\n",
      "('deriva', 0.9940328)\n",
      "('provenienza', 0.99336356)\n",
      "('intendo', 0.99334955)\n",
      "\n",
      "\n",
      "Near neighbors for \"discriminazione\" in the before corpus\n",
      "('maschile', 0.9985721)\n",
      "('contrastare', 0.998262)\n",
      "('molestie', 0.99799585)\n",
      "('combattere', 0.99769104)\n",
      "('autori', 0.9975957)\n",
      "\n",
      "Near neighbors for \"discriminazione\" in the after corpus\n",
      "('include', 0.99605453)\n",
      "('maschile', 0.99460924)\n",
      "('femminile', 0.992915)\n",
      "('distinzioni', 0.99185604)\n",
      "('prevaricazione', 0.99117833)\n",
      "\n",
      "\n",
      "Near neighbors for \"sessismo\" in the before corpus\n",
      "('penso', 0.9996121)\n",
      "('atto', 0.9995604)\n",
      "('sicuramente', 0.9995337)\n",
      "('comune', 0.999514)\n",
      "('qua', 0.99950755)\n",
      "\n",
      "Near neighbors for \"sessismo\" in the after corpus\n",
      "('diffuso', 0.9983211)\n",
      "('base', 0.9981152)\n",
      "('unemergenza', 0.9977745)\n",
      "('tipo', 0.9976907)\n",
      "('estremo', 0.99747)\n",
      "\n",
      "\n",
      "Near neighbors for \"retrogrado\" in the before corpus\n",
      "('ammazzarla', 0.9354444)\n",
      "('permettono', 0.9343031)\n",
      "('applausi', 0.9337905)\n",
      "('carlo', 0.9336901)\n",
      "('tizio', 0.9335857)\n",
      "\n",
      "Near neighbors for \"retrogrado\" in the after corpus\n",
      "('andati', 0.980682)\n",
      "('stereotipo', 0.98018366)\n",
      "('nuovamente', 0.9796604)\n",
      "('addosso', 0.9796411)\n",
      "('istruzione', 0.9795417)\n",
      "\n",
      "\n"
     ]
    }
   ],
   "source": [
    "#nearest neighbors for patriarchy words\n",
    "for word in patriarchy_words:\n",
    "  print (f'Near neighbors for \"{word}\" in the before corpus')\n",
    "  for item in near_neighbors (before_embs, word, before_idx, before_iidx, k=5):\n",
    "    print (item)\n",
    "  print ()\n",
    "  print (f'Near neighbors for \"{word}\" in the after corpus')\n",
    "  for item in near_neighbors (after_embs, word, after_idx, after_iidx, k=5):\n",
    "    print (item)\n",
    "  print()\n",
    "  print()"
   ]
  }
 ],
 "metadata": {
  "kernelspec": {
   "display_name": "Python 3",
   "language": "python",
   "name": "python3"
  },
  "language_info": {
   "codemirror_mode": {
    "name": "ipython",
    "version": 3
   },
   "file_extension": ".py",
   "mimetype": "text/x-python",
   "name": "python",
   "nbconvert_exporter": "python",
   "pygments_lexer": "ipython3",
   "version": "3.11.0"
  }
 },
 "nbformat": 4,
 "nbformat_minor": 2
}
