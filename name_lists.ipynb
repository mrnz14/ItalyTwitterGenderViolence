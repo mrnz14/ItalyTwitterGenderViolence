{
 "cells": [
  {
   "cell_type": "markdown",
   "metadata": {},
   "source": [
    "# Italian Names Scraper (from Wikipedia)"
   ]
  },
  {
   "cell_type": "markdown",
   "metadata": {},
   "source": [
    "## Import Libraries"
   ]
  },
  {
   "cell_type": "code",
   "execution_count": 1,
   "metadata": {},
   "outputs": [],
   "source": [
    "from ntscraper import Nitter\n",
    "import requests\n",
    "import pprint\n",
    "from bs4 import BeautifulSoup\n",
    "from lxml import html\n",
    "import pandas as pd\n",
    "import matplotlib.pyplot as plt\n",
    "import time\n",
    "from selenium import webdriver\n",
    "from selenium.webdriver.common.by import By\n",
    "from selenium.webdriver.support.ui import WebDriverWait\n",
    "from selenium.webdriver.support import expected_conditions as EC"
   ]
  },
  {
   "cell_type": "markdown",
   "metadata": {},
   "source": [
    "## Define Scraper Function"
   ]
  },
  {
   "cell_type": "code",
   "execution_count": 40,
   "metadata": {},
   "outputs": [],
   "source": [
    "def load_names_form_wiki(url, n_pages = 2, button_text = 'next page'):\n",
    "    # Create a new instance of the Chrome driver\n",
    "    chrome_options = webdriver.ChromeOptions()\n",
    "    chrome_options.add_experimental_option(\"useAutomationExtension\", False)\n",
    "    chrome_options.add_experimental_option(\"excludeSwitches\", [\"enable-automation\"])\n",
    "    driver = webdriver.Chrome(options=chrome_options)\n",
    "    \n",
    "    # Open the URL in the browser\n",
    "    driver.get(url)\n",
    "    \n",
    "    # Wait for the \"Load More\" button to be present\n",
    "    wait = WebDriverWait(driver, 10)\n",
    "    load_more_button = wait.until(EC.presence_of_element_located((By.LINK_TEXT, button_text)))\n",
    "    \n",
    "    html_content = driver.page_source\n",
    "    \n",
    "    iteration = 0\n",
    "    while load_more_button and iteration <= n_pages:\n",
    "        try:\n",
    "            print(f\"Iteration {iteration}/{n_pages}: Loading more names...\")\n",
    "            # Click the \"Load More\" button\n",
    "            load_more_button.click()\n",
    "            # Wait for new tweets to load\n",
    "            # wait.until(EC.invisibility_of_element_located((By.CSS_SELECTOR, 'div.loading')))\n",
    "            time.sleep(2)\n",
    "            iteration += 1\n",
    "            if driver.find_elements(By.LINK_TEXT, 'No more content to load'):\n",
    "                break\n",
    "            # Check if there's another \"Load More\" button\n",
    "            load_more_button = driver.find_elements(By.LINK_TEXT, button_text)[0] if driver.find_elements(By.LINK_TEXT, button_text) else False\n",
    "            html_content += driver.page_source\n",
    "        except KeyboardInterrupt:\n",
    "            print(\"Process interrupted by the user\")\n",
    "            break\n",
    "        except:\n",
    "            print(\"Some error occured\")\n",
    "            break\n",
    "    # Get the updated page source after loading all tweets\n",
    "    # html_content = driver.page_source\n",
    "    \n",
    "    # Close the browser\n",
    "    driver.quit()\n",
    "    \n",
    "    return html_content"
   ]
  },
  {
   "cell_type": "markdown",
   "metadata": {},
   "source": [
    "## Scrape Male Names"
   ]
  },
  {
   "cell_type": "code",
   "execution_count": 11,
   "metadata": {},
   "outputs": [
    {
     "name": "stdout",
     "output_type": "stream",
     "text": [
      "Iteration 0/2: Loading more names...\n"
     ]
    }
   ],
   "source": [
    "names_html = load_names_form_wiki('https://en.wikipedia.org/w/index.php?title=Category:Italian_masculine_given_names&pageuntil=Giuliano#mw-pages')"
   ]
  },
  {
   "cell_type": "code",
   "execution_count": 12,
   "metadata": {},
   "outputs": [],
   "source": [
    "soup = BeautifulSoup(names_html, 'html.parser')"
   ]
  },
  {
   "cell_type": "code",
   "execution_count": 34,
   "metadata": {},
   "outputs": [
    {
     "name": "stdout",
     "output_type": "stream",
     "text": [
      "399\n"
     ]
    }
   ],
   "source": [
    "all_names = soup.find_all('div', class_ =\"mw-category mw-category-columns\")\n",
    "names_1 = [name.text for name in all_names[0].find_all('a')]\n",
    "names_1 = [name.replace('(given name)', '') for name in names_1]\n",
    "names_1 = [name.replace('(name)', '') for name in names_1]\n",
    "names_1 = [name.replace(' ', '') for name in names_1]\n",
    "names_2 = [name.text for name in all_names[1].find_all('a')]\n",
    "names_2 = [name.replace('(given name)', '') for name in names_2]\n",
    "names_2 = [name.replace('(name)', '') for name in names_2]\n",
    "names_2 = [name.replace(' ', '') for name in names_2]\n",
    "male_names = names_1 + names_2\n",
    "print(len(male_names))"
   ]
  },
  {
   "cell_type": "markdown",
   "metadata": {},
   "source": [
    "## Scrape Female Names"
   ]
  },
  {
   "cell_type": "code",
   "execution_count": 36,
   "metadata": {},
   "outputs": [],
   "source": [
    "url = 'https://it.wikipedia.org/w/index.php?title=Categoria:Prenomi_italiani_femminili&pageuntil=Elba+%28nome%29#mw-pages'"
   ]
  },
  {
   "cell_type": "code",
   "execution_count": 43,
   "metadata": {},
   "outputs": [
    {
     "name": "stdout",
     "output_type": "stream",
     "text": [
      "Iteration 0/4: Loading more names...\n",
      "Iteration 1/4: Loading more names...\n",
      "Iteration 2/4: Loading more names...\n",
      "626\n"
     ]
    }
   ],
   "source": [
    "names_html = load_names_form_wiki(url, 4, 'pagina successiva')\n",
    "soup = BeautifulSoup(names_html, 'html.parser')\n",
    "all_names = soup.find_all('div', class_ =\"mw-category mw-category-columns\")\n",
    "names_1 = [name.text for name in all_names[0].find_all('a')]\n",
    "names_1 = [name.replace('(given name)', '') for name in names_1]\n",
    "names_1 = [name.replace('(name)', '') for name in names_1]\n",
    "names_1 = [name.replace(' ', '') for name in names_1]\n",
    "names_2 = [name.text for name in all_names[1].find_all('a')]\n",
    "names_2 = [name.replace('(given name)', '') for name in names_2]\n",
    "names_2 = [name.replace('(name)', '') for name in names_2]\n",
    "names_2 = [name.replace(' ', '') for name in names_2]\n",
    "names_3 = [name.text for name in all_names[2].find_all('a')]\n",
    "names_3 = [name.replace('(given name)', '') for name in names_3]\n",
    "names_3 = [name.replace('(name)', '') for name in names_3]\n",
    "names_3 = [name.replace(' ', '') for name in names_3]\n",
    "names_4 = [name.text for name in all_names[3].find_all('a')]\n",
    "names_4 = [name.replace('(given name)', '') for name in names_4]\n",
    "names_4 = [name.replace('(name)', '') for name in names_4]\n",
    "names_4 = [name.replace(' ', '') for name in names_4]\n",
    "female_names = names_1 + names_2 + names_3 + names_4\n",
    "female_names = [name.replace('(nome)', '') for name in female_names]\n",
    "print(len(female_names))"
   ]
  },
  {
   "cell_type": "code",
   "execution_count": 46,
   "metadata": {},
   "outputs": [
    {
     "data": {
      "text/plain": [
       "['Wanda',\n",
       " 'Wilma',\n",
       " 'Xenia',\n",
       " 'Yvonne',\n",
       " 'Zaira',\n",
       " 'Zelmira',\n",
       " 'Zenaide',\n",
       " 'Zina',\n",
       " 'Zita',\n",
       " 'Zoe']"
      ]
     },
     "execution_count": 46,
     "metadata": {},
     "output_type": "execute_result"
    }
   ],
   "source": [
    "female_names[-10:]"
   ]
  },
  {
   "cell_type": "markdown",
   "metadata": {},
   "source": [
    "## Write txt"
   ]
  },
  {
   "cell_type": "code",
   "execution_count": 47,
   "metadata": {},
   "outputs": [],
   "source": [
    "with open('male_names.txt', 'w') as f:\n",
    "    for name in male_names:\n",
    "        f.write(name + '\\n')\n",
    "with open('female_names.txt', 'w') as f:\n",
    "    for name in female_names:\n",
    "        f.write(name + '\\n')"
   ]
  }
 ],
 "metadata": {
  "kernelspec": {
   "display_name": "Python 3",
   "language": "python",
   "name": "python3"
  },
  "language_info": {
   "codemirror_mode": {
    "name": "ipython",
    "version": 3
   },
   "file_extension": ".py",
   "mimetype": "text/x-python",
   "name": "python",
   "nbconvert_exporter": "python",
   "pygments_lexer": "ipython3",
   "version": "3.11.0"
  }
 },
 "nbformat": 4,
 "nbformat_minor": 2
}
